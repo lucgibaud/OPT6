{
 "cells": [
  {
   "cell_type": "markdown",
   "metadata": {},
   "source": [
    "## Théo Cornille - Mirwaisse Djanbaz - Luc Gibaud - Cédric des Lauriers\n",
    "# Learning and Memorization"
   ]
  },
  {
   "cell_type": "code",
   "execution_count": 1,
   "metadata": {
    "collapsed": true
   },
   "outputs": [],
   "source": [
    "%matplotlib inline\n",
    "import numpy as np\n",
    "import matplotlib.pyplot as plt"
   ]
  },
  {
   "cell_type": "markdown",
   "metadata": {},
   "source": [
    "## Données (MNIST)"
   ]
  },
  {
   "cell_type": "code",
   "execution_count": 2,
   "metadata": {
    "collapsed": true
   },
   "outputs": [],
   "source": [
    "mnistfile =\"mnist.pkl.gz\""
   ]
  },
  {
   "cell_type": "code",
   "execution_count": 3,
   "metadata": {
    "collapsed": true
   },
   "outputs": [],
   "source": [
    "# Chargement des données\n",
    "import dataset_loader\n",
    "train_set, valid_set, test_set = dataset_loader.load_mnist(mnistfile)"
   ]
  },
  {
   "cell_type": "code",
   "execution_count": 15,
   "metadata": {
    "collapsed": true
   },
   "outputs": [],
   "source": [
    "train_set[0] = train_set[0][:1000]\n",
    "train_set[1] = train_set[1][:1000]\n",
    "valid_set[0] = valid_set[0][:1000]\n",
    "valid_set[1] = valid_set[1][:1000]"
   ]
  },
  {
   "cell_type": "code",
   "execution_count": 16,
   "metadata": {
    "scrolled": true
   },
   "outputs": [
    {
     "name": "stdout",
     "output_type": "stream",
     "text": [
      "label: 6\n"
     ]
    },
    {
     "data": {
      "image/png": "[encoded data removed]",
      "text/plain": [
       "<matplotlib.figure.Figure at 0x1180f00f0>"
      ]
     },
     "metadata": {},
     "output_type": "display_data"
    }
   ],
   "source": [
    "# Exemple d'image du MNIST\n",
    "img_id = 42\n",
    "plt.imshow(train_set[0][img_id].reshape(28,28) , cmap='Greys') \n",
    "print(\"label: \" + str(train_set[1][img_id]))"
   ]
  },
  {
   "cell_type": "code",
   "execution_count": 17,
   "metadata": {
    "collapsed": true
   },
   "outputs": [],
   "source": [
    "# Création du nouveau label binaire : 0 si ancien label < 5 et 1 si >= 5\n",
    "train_set_binarized_labels = (train_set[1] >= 5).astype(int)\n",
    "valid_set_binarized_labels = (valid_set[1] >= 5).astype(int)"
   ]
  },
  {
   "cell_type": "code",
   "execution_count": 18,
   "metadata": {
    "collapsed": true
   },
   "outputs": [],
   "source": [
    "# Fonction servant à binariser les valeurs de chaque pixels d'une image\n",
    "def binarise(img, s=0.5):\n",
    "    nbr_pixels = len(img)\n",
    "    L=np.zeros(nbr_pixels)\n",
    "    for i in range(nbr_pixels) :\n",
    "        if img[i]>s :\n",
    "            L[i]=1\n",
    "        else :\n",
    "            L[i]=0\n",
    "    return L"
   ]
  },
  {
   "cell_type": "code",
   "execution_count": 19,
   "metadata": {},
   "outputs": [
    {
     "name": "stdout",
     "output_type": "stream",
     "text": [
      "label binaire: 1\n"
     ]
    },
    {
     "data": {
      "image/png": "[encoded data removed]",
      "text/plain": [
       "<matplotlib.figure.Figure at 0x11814df28>"
      ]
     },
     "metadata": {},
     "output_type": "display_data"
    }
   ],
   "source": [
    "# Exemple d'image du MNIST binarisée avec label binaire\n",
    "plt.imshow(binarise(train_set[0][img_id],s=0.5).reshape(28,28) , cmap='Greys') \n",
    "print(\"label binaire: \" + str(train_set_binarized_labels[img_id]))"
   ]
  },
  {
   "cell_type": "code",
   "execution_count": 20,
   "metadata": {},
   "outputs": [],
   "source": [
    "# Binarisation du dataset\n",
    "for i in range (train_set[0].shape[0]):\n",
    "    train_set[0][i]=binarise(train_set[0][i])\n",
    "\n",
    "for i in range (valid_set[0].shape[0]):\n",
    "    valid_set[0][i]=binarise(valid_set[0][i])"
   ]
  },
  {
   "cell_type": "code",
   "execution_count": 21,
   "metadata": {
    "collapsed": true
   },
   "outputs": [],
   "source": [
    "# Déclaration de X_train, y_train, X_test, y_test\n",
    "X_train = train_set[0].astype(int)\n",
    "y_train = train_set_binarized_labels\n",
    "\n",
    "X_test = valid_set[0].astype(int)\n",
    "y_test = valid_set_binarized_labels"
   ]
  },
  {
   "cell_type": "markdown",
   "metadata": {},
   "source": [
    "## Implémentation du modèle"
   ]
  },
  {
   "cell_type": "code",
   "execution_count": 22,
   "metadata": {
    "collapsed": true
   },
   "outputs": [],
   "source": [
    "from sklearn.metrics import accuracy_score\n",
    "\n",
    "class Memorization:\n",
    "    \n",
    "    \"\"\"\n",
    "    Initialise le modèle.\n",
    "    \"\"\"\n",
    "    def __init__(self, layers, k):\n",
    "        self.layers = layers # liste des couches de luts\n",
    "        self.k = k # nombre d'entrée par lut\n",
    "        self.list_luts = [] # liste des luts\n",
    "        self.dict = self.init_dict()\n",
    "        self.make_list_luts()\n",
    "\n",
    "        self.list_link = [] # liste des liaisons entre luts\n",
    "    \n",
    "    \"\"\"\n",
    "    Crée la liste des liens entre les luts. \n",
    "        list_luts[i][j] correspond à l'ensemble des luts de la couche i qu'il faut ordonner \n",
    "        pour obtenir le jème lut de la couche i+1\n",
    "    \"\"\"\n",
    "    def make_list_luts(self):\n",
    "        self.list_luts = []\n",
    "\n",
    "        L = []\n",
    "        \n",
    "        #génère la combinaison aléatoire de taille k pour chacune des couches et les ajoute dans une liste 'list_luts'\n",
    "        for layer in range(1, len(self.layers)):\n",
    "            L = []\n",
    "            for i in range(self.layers[layer]):\n",
    "                L.append(np.random.randint(0, self.layers[layer-1], self.k))\n",
    "            self.list_luts.append(L)\n",
    "            \n",
    "    \"\"\"\n",
    "    Sert à initialiser un dictionnaire. \n",
    "    Le dictionnaire possède pour clés l'ensemble des nombres en binaire de 0 à 2**self.k-1\n",
    "    Toutes les valeurs sont nulles\n",
    "    \"\"\"\n",
    "    def init_dict(self):\n",
    "        dict_ = {}\n",
    "        for i in range(2**self.k):\n",
    "            x = (\"0\"*self.k + str(bin(i))[2:])[-self.k:]\n",
    "            dict_[x] = 0\n",
    "        return dict_\n",
    "    \n",
    "    \"\"\"\n",
    "    Entraînement du modèle.\n",
    "    Mets notamment à jour list_link :\n",
    "        list_link[i][j] est un dictionnaire qui permet, pour le lut j de la couche i+1,\n",
    "        de transformer la combinaison des k luts correspondans de la couche i en un nombre binaire (0 ou 1)\n",
    "    \"\"\"\n",
    "    def fit(self, X_train, y_train, print_training_accuracy = False):\n",
    "        #Display training accuracy for the first layer (layer 0)\n",
    "        if print_training_accuracy:\n",
    "                print(\"Layer = \" + str(0) \n",
    "                      + \" | Lut count = \" + (str(self.layers[0]) + \"    \")[:5]\n",
    "                      + \" | Training Accuracy = \" + str(self.accuracy(X_train, y_train)))\n",
    "                \n",
    "        n = len(X_train)\n",
    "        \n",
    "        list_computed = [X_train] #initialise la liste des couches qui vont être calculées\n",
    "        self.list_link = [] # liste des liaisons entre luts\n",
    "\n",
    "        # Entraînement couche par couche\n",
    "        for layer in range(1, len(self.layers)): #numero de la couche\n",
    "            layer_luts = self.list_luts[layer - 1] #liste des luts de la couche précédente et de taille k (combinaison aléatoire)\n",
    "\n",
    "            last_computed_layer = list_computed[-1] #récupère la dernière couche\n",
    "\n",
    "            link = []\n",
    "            next_computed_layer = [[0 for x in range(self.layers[layer])] for y in range(n)] #initialiste la couche suivante \n",
    "                                                                                             #(taille de la couche suivant * nombre d'exemples dans le dataset)\n",
    "            \n",
    "            for i in range(self.layers[layer]): #parcourt la taille de la couche pour chaque couche\n",
    "                dict_positif = self.dict.copy() #init du dictionnaire stockant le nombre de valeurs positives\n",
    "                dict_negatif = self.dict.copy() #init du dictionnaire stockant le nombre de valeurs négatives\n",
    "\n",
    "                for j in range(n): #parcourt le nombre d'exemples dans le dataset\n",
    "                    s = \"\"\n",
    "                    for z in range(self.k): #parcourt la taille k pour chaque exemple\n",
    "                        s += str(last_computed_layer[j][layer_luts[i][z]]) #donne la valeur binaire pour chaque exemple (j) grâce à la combinaison aléatoire des luts de la couche précédente \n",
    "                    next_computed_layer[j][i] = s #stocke la valeur binaire dans la nouvelle couche à la position (j=numero d'exemples, i=numero dans la taille de la couche)\n",
    "                    dict_negatif[s] += (y_train[j] == 0).astype(int) #stocke dans le dict neg pour la clé binaire, le nombre de valeurs negatives dans le dataset\n",
    "                    dict_positif[s] += (y_train[j] == 1).astype(int) #stocke dans le dict pos pour la clé binaire, le nombre de valeurs positive dans le dataset\n",
    "\n",
    "                dict_ = self.dict.copy()\n",
    "                \n",
    "                #prédiction finale obtenu par la comparaison du nombre de valeurs positives par rapport aux nombres de valeurs négatives\n",
    "                for l in dict_.keys():\n",
    "                    if dict_positif[l] > dict_negatif[l]:\n",
    "                        dict_[l] = 1\n",
    "                    elif dict_positif[l] < dict_negatif[l]:\n",
    "                        dict_[l] = 0\n",
    "                    else :\n",
    "                        dict_[l] = np.random.randint(2)\n",
    "\n",
    "                #attribut la valeur finale pour la nouvelle couche à la position j(num exemple pour chaque exemple), i(num taille de la couche)\n",
    "                for j in range(n): #reparcourt le nombre d'exemples dans le dataset\n",
    "                    next_computed_layer[j][i] = dict_[next_computed_layer[j][i]]\n",
    "\n",
    "                link.append(dict_) #rajoute le dict des valeurs prédites 'dict_' dans une liste 'link'\n",
    "\n",
    "            list_computed.append(next_computed_layer) #rajoute la nouvelle couche dans la liste 'list_computed'\n",
    "            self.list_link.append(link) #rajoute la liste 'link' dans la liste générale 'list_link'\n",
    "            \n",
    "            if print_training_accuracy:\n",
    "                print(\"Layer = \" + str(layer) \n",
    "                      + \" | Lut count = \" + (str(self.layers[layer]) + \"    \")[:5] \n",
    "                      + \" | Training Accuracy = \" + str(self.accuracy(X_train, y_train)))\n",
    "    \n",
    "    \"\"\"\n",
    "    Prediction de la classe pour une entrée x.\n",
    "    \"\"\"\n",
    "    def one_prediction(self, x):   \n",
    "        list_computed = [x]\n",
    "\n",
    "        # Calcul couche par couche\n",
    "        for layer in range(len(self.list_link)):\n",
    "            layer_luts = self.list_luts[layer]\n",
    "            link = self.list_link[layer]\n",
    "            last_computed_layer = list_computed[-1]\n",
    "\n",
    "            next_computed_layer = []\n",
    "            for i in range(len(layer_luts)):\n",
    "                s = \"\"\n",
    "                for z in range(self.k):\n",
    "                    s += str(last_computed_layer[layer_luts[i][z]])\n",
    "                next_computed_layer.append(link[i][s])\n",
    "            list_computed.append(next_computed_layer)\n",
    "        \n",
    "        # Somme du nombre de 1 sur l'ensemble des luts de la dernière couche\n",
    "        resu = 0\n",
    "        for i in range(len(self.list_luts[len(self.list_link) - 1])):\n",
    "            resu += list_computed[-1][i]\n",
    "        \n",
    "        # Retourne 1 si il y a plus de 1 que de 0 sur l'ensemble des luts de la dernière couche (0 sinon)\n",
    "        return int(resu > len(self.list_luts[len(self.list_link) - 1]) / 2)\n",
    "    \n",
    "    \"\"\"\n",
    "    Prediction de la classe pour le vecteur X. \n",
    "    \"\"\"\n",
    "    def predict(self, X):\n",
    "        y = []\n",
    "        for x in X:\n",
    "            y.append(self.one_prediction(x))\n",
    "        return np.array(y)\n",
    "    \n",
    "    \"\"\"\n",
    "    Calcul de la précision du modèle.\n",
    "    \"\"\"\n",
    "    def accuracy(self, X, y):\n",
    "        return accuracy_score(self.predict(X), y)"
   ]
  },
  {
   "cell_type": "markdown",
   "metadata": {},
   "source": [
    "## Expérimentations\n",
    "\n",
    "### Expérimentation n°1"
   ]
  },
  {
   "cell_type": "code",
   "execution_count": 80,
   "metadata": {
    "collapsed": true
   },
   "outputs": [],
   "source": [
    "layers = [784, 1024, 1024, 1024, 1024, 1024, 1] \n",
    "k = 8"
   ]
  },
  {
   "cell_type": "code",
   "execution_count": 81,
   "metadata": {
    "collapsed": true
   },
   "outputs": [],
   "source": [
    "model = Memorization(layers, k)"
   ]
  },
  {
   "cell_type": "code",
   "execution_count": 82,
   "metadata": {},
   "outputs": [
    {
     "name": "stdout",
     "output_type": "stream",
     "text": [
      "Layer = 0 | Lut count = 784   | Training Accuracy = 0.51076\n",
      "Layer = 1 | Lut count = 1024  | Training Accuracy = 0.78768\n",
      "Layer = 2 | Lut count = 1024  | Training Accuracy = 0.84706\n",
      "Layer = 3 | Lut count = 1024  | Training Accuracy = 0.86198\n",
      "Layer = 4 | Lut count = 1024  | Training Accuracy = 0.87266\n",
      "Layer = 5 | Lut count = 1024  | Training Accuracy = 0.88226\n",
      "Layer = 6 | Lut count = 1     | Training Accuracy = 0.88486\n"
     ]
    }
   ],
   "source": [
    "model.fit(X_train, y_train, print_training_accuracy = True)"
   ]
  },
  {
   "cell_type": "markdown",
   "metadata": {},
   "source": [
    "### Expérimentation n°2"
   ]
  },
  {
   "cell_type": "code",
   "execution_count": 83,
   "metadata": {},
   "outputs": [
    {
     "name": "stdout",
     "output_type": "stream",
     "text": [
      "k = 2   | Training Accuracy = 0.621 | Test Accuracy = 0.6217\n",
      "k = 4   | Training Accuracy = 0.806 | Test Accuracy = 0.8123\n",
      "k = 6   | Training Accuracy = 0.843 | Test Accuracy = 0.8463\n",
      "k = 8   | Training Accuracy = 0.889 | Test Accuracy = 0.8748\n",
      "k = 10  | Training Accuracy = 0.945 | Test Accuracy = 0.8928\n",
      "k = 12  | Training Accuracy = 0.989 | Test Accuracy = 0.8886\n",
      "k = 14  | Training Accuracy = 0.999 | Test Accuracy = 0.8062\n",
      "k = 16  | Training Accuracy = 0.999 | Test Accuracy = 0.6382\n"
     ]
    }
   ],
   "source": [
    "for k in [2,4,6,8,10,12,14,16]:\n",
    "    model = Memorization(layers, k)\n",
    "    model.fit(X_train, y_train)\n",
    "    print(\"k = \" + (str(k) + \"  \")[:3]\n",
    "          + \" | Training Accuracy = \" + (str(model.accuracy(X_train, y_train)) + \"   \")[:5] \n",
    "          + \" | Test Accuracy = \" + str(model.accuracy(X_test, y_test)))"
   ]
  },
  {
   "cell_type": "markdown",
   "metadata": {},
   "source": [
    "### Expérimentation n°3"
   ]
  },
  {
   "cell_type": "code",
   "execution_count": 16,
   "metadata": {
    "collapsed": true
   },
   "outputs": [],
   "source": [
    "y_train_random = np.array([np.random.randint(2) for i in range(len(y_train))])\n",
    "y_test_random = np.array([np.random.randint(2) for i in range(len(y_test))])"
   ]
  },
  {
   "cell_type": "code",
   "execution_count": 17,
   "metadata": {},
   "outputs": [
    {
     "name": "stdout",
     "output_type": "stream",
     "text": [
      "k = 2   | Training Accuracy = 0.533 | Test Accuracy = 0.504\n",
      "k = 4   | Training Accuracy = 0.566 | Test Accuracy = 0.513\n",
      "k = 6   | Training Accuracy = 0.657 | Test Accuracy = 0.511\n",
      "k = 8   | Training Accuracy = 0.766 | Test Accuracy = 0.493\n",
      "k = 10  | Training Accuracy = 0.938 | Test Accuracy = 0.471\n",
      "k = 12  | Training Accuracy = 0.987 | Test Accuracy = 0.508\n",
      "k = 14  | Training Accuracy = 0.998 | Test Accuracy = 0.512\n",
      "k = 16  | Training Accuracy = 0.998 | Test Accuracy = 0.508\n"
     ]
    }
   ],
   "source": [
    "for k in [2,4,6,8,10,12,14,16]:\n",
    "    model = Memorization(layers, k)\n",
    "    model.fit(X_train, y_train_random)\n",
    "    print(\"k = \" + (str(k) + \"  \")[:3]\n",
    "          + \" | Training Accuracy = \" + (str(model.accuracy(X_train, y_train_random)) + \"   \")[:5] \n",
    "          + \" | Test Accuracy = \" + str(model.accuracy(X_test, y_test_random)))"
   ]
  },
  {
   "cell_type": "markdown",
   "metadata": {},
   "source": [
    "### Expérimentation n°4\n",
    "\n",
    "L'objectif de cette expérience est de comparer le modèle de mémorisation avec des méthodes standards de machine learning."
   ]
  },
  {
   "cell_type": "code",
   "execution_count": 18,
   "metadata": {
    "collapsed": true
   },
   "outputs": [],
   "source": [
    "list_results = []"
   ]
  },
  {
   "cell_type": "code",
   "execution_count": 19,
   "metadata": {
    "collapsed": true
   },
   "outputs": [],
   "source": [
    "# Test du modèle : 5-Nearest Neighbors\n",
    "from sklearn.neighbors import KNeighborsClassifier\n",
    "\n",
    "knn_5 = KNeighborsClassifier(n_neighbors = 5)\n",
    "knn_5.fit(X_train, y_train)\n",
    "knn_5_train_accuracy = accuracy_score(knn_5.predict(X_train), y_train)\n",
    "knn_5_test_accuracy = accuracy_score(knn_5.predict(X_test), y_test)\n",
    "\n",
    "list_results.append((\"5-Nearest Neighbors\", knn_5_train_accuracy, knn_5_test_accuracy))"
   ]
  },
  {
   "cell_type": "code",
   "execution_count": 20,
   "metadata": {
    "collapsed": true
   },
   "outputs": [],
   "source": [
    "# Test du modèle : 1-Nearest Neighbors\n",
    "knn_1 = KNeighborsClassifier(n_neighbors = 1)\n",
    "knn_1.fit(X_train, y_train)\n",
    "knn_1_train_accuracy = accuracy_score(knn_1.predict(X_train), y_train)\n",
    "knn_1_test_accuracy = accuracy_score(knn_1.predict(X_test), y_test)\n",
    "\n",
    "list_results.append((\"1-Nearest Neighbors\", knn_1_train_accuracy, knn_1_test_accuracy))"
   ]
  },
  {
   "cell_type": "code",
   "execution_count": 21,
   "metadata": {
    "collapsed": true
   },
   "outputs": [],
   "source": [
    "# Test du modèle : Random Forest (10 Trees)\n",
    "from sklearn.ensemble import RandomForestClassifier\n",
    "\n",
    "rf = RandomForestClassifier()\n",
    "rf.fit(X_train, y_train)\n",
    "rf_train_accuracy = accuracy_score(rf.predict(X_train), y_train)\n",
    "rf_test_accuracy = accuracy_score(rf.predict(X_test), y_test)\n",
    "\n",
    "list_results.append((\"Random Forest (10 Trees)\", rf_train_accuracy, rf_test_accuracy))"
   ]
  },
  {
   "cell_type": "code",
   "execution_count": 22,
   "metadata": {
    "collapsed": true
   },
   "outputs": [],
   "source": [
    "# Test du modèle : Memorization\n",
    "\n",
    "memo = Memorization(layers, k)\n",
    "memo.fit(X_train, y_train)\n",
    "memo_train_accuracy = accuracy_score(memo.predict(X_train), y_train)\n",
    "memo_test_accuracy = accuracy_score(memo.predict(X_test), y_test)\n",
    "\n",
    "list_results.append((\"Memorization\", memo_train_accuracy, memo_test_accuracy))"
   ]
  },
  {
   "cell_type": "code",
   "execution_count": 23,
   "metadata": {
    "collapsed": true
   },
   "outputs": [],
   "source": [
    "# Test du modèle : Logistic Regression\n",
    "from sklearn.linear_model import LogisticRegression\n",
    "\n",
    "lr = LogisticRegression()\n",
    "lr.fit(X_train, y_train)\n",
    "lr_train_accuracy = accuracy_score(lr.predict(X_train), y_train)\n",
    "lr_test_accuracy = accuracy_score(lr.predict(X_test), y_test)\n",
    "\n",
    "list_results.append((\"Logistic Regression\", lr_train_accuracy, lr_test_accuracy))"
   ]
  },
  {
   "cell_type": "code",
   "execution_count": 24,
   "metadata": {
    "collapsed": true
   },
   "outputs": [],
   "source": [
    "# Test du modèle : Naïve Bayes\n",
    "from sklearn.naive_bayes import GaussianNB\n",
    "\n",
    "nb = GaussianNB()\n",
    "nb.fit(X_train, y_train)\n",
    "nb_train_accuracy = accuracy_score(nb.predict(X_train), y_train)\n",
    "nb_test_accuracy = accuracy_score(nb.predict(X_test), y_test)\n",
    "\n",
    "list_results.append((\"Naïve Bayes\", nb_train_accuracy, nb_test_accuracy))"
   ]
  },
  {
   "cell_type": "code",
   "execution_count": 25,
   "metadata": {
    "collapsed": true
   },
   "outputs": [],
   "source": [
    "# Test du modèle : Random Guess\n",
    "random_guess = lambda x : np.random.randint(2)\n",
    "rg_train_accuracy = accuracy_score([random_guess(x) for x in X_train], y_train)\n",
    "rg_test_accuracy = accuracy_score([random_guess(x) for x in X_test], y_test)\n",
    "\n",
    "\n",
    "list_results.append((\"Random Guess\", rg_train_accuracy, rg_test_accuracy))"
   ]
  },
  {
   "cell_type": "code",
   "execution_count": 26,
   "metadata": {},
   "outputs": [
    {
     "name": "stdout",
     "output_type": "stream",
     "text": [
      "5-Nearest Neighbors      | Training Accuracy = 0.96   | Test Accuracy = 0.92\n",
      "1-Nearest Neighbors      | Training Accuracy = 1.0    | Test Accuracy = 0.93\n",
      "Random Forest (10 Trees) | Training Accuracy = 0.996  | Test Accuracy = 0.871\n",
      "Memorization             | Training Accuracy = 1.0    | Test Accuracy = 0.556\n",
      "Logistic Regression      | Training Accuracy = 0.958  | Test Accuracy = 0.809\n",
      "Naïve Bayes              | Training Accuracy = 0.666  | Test Accuracy = 0.687\n",
      "Random Guess             | Training Accuracy = 0.492  | Test Accuracy = 0.498\n"
     ]
    }
   ],
   "source": [
    "# Comparaison des modèles\n",
    "\n",
    "for name, train_acc, test_acc in list_results:\n",
    "    print((str(name) + \"             \")[:24] \n",
    "          + \" | Training Accuracy = \" + (str(train_acc) + \"   \")[:6]\n",
    "          + \" | Test Accuracy = \" + str(test_acc))"
   ]
  },
  {
   "cell_type": "markdown",
   "metadata": {},
   "source": [
    "### Expérimentation n°5\n",
    "\n",
    "L'objectif de cette expérience est d'appliquer le principe de mémorisation sur la tâche de séparation du i-ème digit de MNIST avec le j-ème digit.\n",
    "On a 10 digits différents (0 à 9) et des paires de digits. Ce qui revient à faire 2 parmi n expériences (=45)"
   ]
  },
  {
   "cell_type": "code",
   "execution_count": 25,
   "metadata": {},
   "outputs": [
    {
     "name": "stdout",
     "output_type": "stream",
     "text": [
      "k = 2   | Training Accuracy = 0.562 | Test Accuracy = 0.573\n",
      "k = 4   | Training Accuracy = 0.659 | Test Accuracy = 0.654\n",
      "k = 6   | Training Accuracy = 0.814 | Test Accuracy = 0.755\n",
      "k = 8   | Training Accuracy = 0.938 | Test Accuracy = 0.738\n",
      "k = 10  | Training Accuracy = 0.985 | Test Accuracy = 0.709\n",
      "k = 12  | Training Accuracy = 1.0   | Test Accuracy = 0.692\n",
      "k = 14  | Training Accuracy = 1.0   | Test Accuracy = 0.542\n",
      "k = 16  | Training Accuracy = 1.0   | Test Accuracy = 0.523\n"
     ]
    }
   ],
   "source": [
    "for k in [2,4,6,8,10,12,14,16]:\n",
    "    model = Memorization(layers, k)\n",
    "    model.fit(X_train, y_train)\n",
    "    print(\"k = \" + (str(k) + \"  \")[:3]\n",
    "          + \" | Training Accuracy = \" + (str(model.accuracy(X_train, y_train)) + \"   \")[:5] \n",
    "          + \" | Test Accuracy = \" + str(model.accuracy(X_test, y_test)))"
   ]
  },
  {
   "cell_type": "code",
   "execution_count": 26,
   "metadata": {
    "collapsed": true
   },
   "outputs": [],
   "source": [
    "mnistfile =\"mnist.pkl.gz\""
   ]
  },
  {
   "cell_type": "code",
   "execution_count": 27,
   "metadata": {
    "collapsed": true
   },
   "outputs": [],
   "source": [
    "# Chargement des données\n",
    "import dataset_loader\n",
    "train_set, valid_set, test_set = dataset_loader.load_mnist(mnistfile)"
   ]
  },
  {
   "cell_type": "code",
   "execution_count": 28,
   "metadata": {
    "collapsed": true
   },
   "outputs": [],
   "source": [
    "# Limitation de la taille du jeu de données pour réduire le temps de calcul (A retirer)\n",
    "train_set[0] = train_set[0][:1000]\n",
    "train_set[1] = train_set[1][:1000]\n",
    "valid_set[0] = valid_set[0][:1000]\n",
    "valid_set[1] = valid_set[1][:1000]"
   ]
  },
  {
   "cell_type": "code",
   "execution_count": 29,
   "metadata": {
    "collapsed": true
   },
   "outputs": [],
   "source": [
    "# Binarisation du dataset\n",
    "for i in range (train_set[0].shape[0]):\n",
    "    train_set[0][i]=binarise(train_set[0][i])\n",
    "\n",
    "for i in range (valid_set[0].shape[0]):\n",
    "    valid_set[0][i]=binarise(valid_set[0][i])"
   ]
  },
  {
   "cell_type": "code",
   "execution_count": 47,
   "metadata": {
    "collapsed": true
   },
   "outputs": [],
   "source": [
    "def create_pairwise_dataset(digit_i, digit_j, train_set, valid_set):\n",
    "    \"\"\"train set\"\"\"\n",
    "    #train set (digit i et digit j)\n",
    "    digit_i_train_idx = np.where(train_set[1]==digit_i)\n",
    "    digit_j_train_idx = np.where(train_set[1]==digit_j)\n",
    "    pairwise_train_idx = np.concatenate((digit_i_train_idx, digit_j_train_idx), axis=1)\n",
    "    \n",
    "    train_X, train_y = train_set[0][tuple(pairwise_train_idx)].astype(int), train_set[1][tuple(pairwise_train_idx)]\n",
    "    \n",
    "    #transform labels of digit i and digit j into 1 and 0\n",
    "    #digit_i = 1 by default\n",
    "    train_y = (train_y == digit_i).astype(int)\n",
    "    \n",
    "    #shuffle\n",
    "    train_perm = np.random.permutation(train_X.shape[0])\n",
    "    new_train_set = [train_X[train_perm,:], train_y[train_perm]]\n",
    "    \n",
    "    \"\"\"test set\"\"\"\n",
    "    #test set (digit i et digit j)\n",
    "    digit_i_val_idx = np.where(valid_set[1]==digit_i)\n",
    "    digit_j_val_idx = np.where(valid_set[1]==digit_j)\n",
    "    pairwise_val_idx = np.concatenate((digit_i_val_idx, digit_j_val_idx), axis=1)\n",
    "    \n",
    "    test_X, test_y = valid_set[0][tuple(pairwise_val_idx)].astype(int), valid_set[1][tuple(pairwise_val_idx)]\n",
    "\n",
    "    #transform labels of digit i and digit j into 1 and 0\n",
    "    #digit_i = 1 by default\n",
    "    test_y = (test_y == digit_i).astype(int)\n",
    "    \n",
    "    \n",
    "    #shuffle\n",
    "    test_perm = np.random.permutation(test_X.shape[0])\n",
    "    new_test_set = [test_X[test_perm,:], test_y[test_perm]]\n",
    "    \n",
    "    return new_train_set, new_test_set"
   ]
  },
  {
   "cell_type": "code",
   "execution_count": 31,
   "metadata": {
    "scrolled": true
   },
   "outputs": [
    {
     "name": "stdout",
     "output_type": "stream",
     "text": [
      "i-th digit: 0, j-th digit: 1\n",
      "k = 2   | Training Accuracy = 0.935 | Test Accuracy = 0.953\n",
      "k = 4   | Training Accuracy = 0.985 | Test Accuracy = 0.958\n",
      "k = 6   | Training Accuracy = 1.0   | Test Accuracy = 0.958\n",
      "k = 8   | Training Accuracy = 1.0   | Test Accuracy = 0.793\n",
      "k = 10  | Training Accuracy = 1.0   | Test Accuracy = 0.747\n",
      "k = 12  | Training Accuracy = 1.0   | Test Accuracy = 0.721\n",
      "k = 14  | Training Accuracy = 1.0   | Test Accuracy = 0.675\n",
      "k = 16  | Training Accuracy = 1.0   | Test Accuracy = 0.664\n",
      "i-th digit: 0, j-th digit: 2\n",
      "k = 2   | Training Accuracy = 0.700 | Test Accuracy = 0.641\n",
      "k = 4   | Training Accuracy = 0.898 | Test Accuracy = 0.856\n",
      "k = 6   | Training Accuracy = 0.994 | Test Accuracy = 0.918\n",
      "k = 8   | Training Accuracy = 1.0   | Test Accuracy = 0.760\n",
      "k = 10  | Training Accuracy = 1.0   | Test Accuracy = 0.617\n",
      "k = 12  | Training Accuracy = 1.0   | Test Accuracy = 0.545\n",
      "k = 14  | Training Accuracy = 1.0   | Test Accuracy = 0.578\n",
      "k = 16  | Training Accuracy = 1.0   | Test Accuracy = 0.497\n",
      "i-th digit: 0, j-th digit: 3\n",
      "k = 2   | Training Accuracy = 0.813 | Test Accuracy = 0.793\n",
      "k = 4   | Training Accuracy = 0.896 | Test Accuracy = 0.835\n",
      "k = 6   | Training Accuracy = 0.989 | Test Accuracy = 0.943\n",
      "k = 8   | Training Accuracy = 0.994 | Test Accuracy = 0.788\n",
      "k = 10  | Training Accuracy = 1.0   | Test Accuracy = 0.737\n",
      "k = 12  | Training Accuracy = 1.0   | Test Accuracy = 0.596\n",
      "k = 14  | Training Accuracy = 1.0   | Test Accuracy = 0.544\n",
      "k = 16  | Training Accuracy = 1.0   | Test Accuracy = 0.497\n",
      "i-th digit: 0, j-th digit: 4\n",
      "k = 2   | Training Accuracy = 0.773 | Test Accuracy = 0.741\n",
      "k = 4   | Training Accuracy = 0.939 | Test Accuracy = 0.940\n",
      "k = 6   | Training Accuracy = 0.994 | Test Accuracy = 0.930\n",
      "k = 8   | Training Accuracy = 1.0   | Test Accuracy = 0.844\n",
      "k = 10  | Training Accuracy = 1.0   | Test Accuracy = 0.650\n",
      "k = 12  | Training Accuracy = 1.0   | Test Accuracy = 0.462\n",
      "k = 14  | Training Accuracy = 1.0   | Test Accuracy = 0.5\n",
      "k = 16  | Training Accuracy = 1.0   | Test Accuracy = 0.510\n",
      "i-th digit: 0, j-th digit: 5\n",
      "k = 2   | Training Accuracy = 0.748 | Test Accuracy = 0.787\n",
      "k = 4   | Training Accuracy = 0.938 | Test Accuracy = 0.842\n",
      "k = 6   | Training Accuracy = 0.983 | Test Accuracy = 0.921\n",
      "k = 8   | Training Accuracy = 1.0   | Test Accuracy = 0.768\n",
      "k = 10  | Training Accuracy = 1.0   | Test Accuracy = 0.564\n",
      "k = 12  | Training Accuracy = 1.0   | Test Accuracy = 0.509\n",
      "k = 14  | Training Accuracy = 1.0   | Test Accuracy = 0.564\n",
      "k = 16  | Training Accuracy = 1.0   | Test Accuracy = 0.518\n",
      "i-th digit: 0, j-th digit: 6\n",
      "k = 2   | Training Accuracy = 0.717 | Test Accuracy = 0.701\n",
      "k = 4   | Training Accuracy = 0.943 | Test Accuracy = 0.889\n",
      "k = 6   | Training Accuracy = 1.0   | Test Accuracy = 0.860\n",
      "k = 8   | Training Accuracy = 1.0   | Test Accuracy = 0.75\n",
      "k = 10  | Training Accuracy = 1.0   | Test Accuracy = 0.692\n",
      "k = 12  | Training Accuracy = 1.0   | Test Accuracy = 0.572\n",
      "k = 14  | Training Accuracy = 1.0   | Test Accuracy = 0.490\n",
      "k = 16  | Training Accuracy = 1.0   | Test Accuracy = 0.552\n",
      "i-th digit: 0, j-th digit: 7\n",
      "k = 2   | Training Accuracy = 0.751 | Test Accuracy = 0.774\n",
      "k = 4   | Training Accuracy = 0.956 | Test Accuracy = 0.926\n",
      "k = 6   | Training Accuracy = 1.0   | Test Accuracy = 0.870\n",
      "k = 8   | Training Accuracy = 1.0   | Test Accuracy = 0.806\n",
      "k = 10  | Training Accuracy = 1.0   | Test Accuracy = 0.695\n",
      "k = 12  | Training Accuracy = 1.0   | Test Accuracy = 0.626\n",
      "k = 14  | Training Accuracy = 1.0   | Test Accuracy = 0.539\n",
      "k = 16  | Training Accuracy = 1.0   | Test Accuracy = 0.603\n",
      "i-th digit: 0, j-th digit: 8\n",
      "k = 2   | Training Accuracy = 0.673 | Test Accuracy = 0.666\n",
      "k = 4   | Training Accuracy = 0.926 | Test Accuracy = 0.851\n",
      "k = 6   | Training Accuracy = 1.0   | Test Accuracy = 0.958\n",
      "k = 8   | Training Accuracy = 1.0   | Test Accuracy = 0.723\n",
      "k = 10  | Training Accuracy = 1.0   | Test Accuracy = 0.707\n",
      "k = 12  | Training Accuracy = 1.0   | Test Accuracy = 0.553\n",
      "k = 14  | Training Accuracy = 1.0   | Test Accuracy = 0.543\n",
      "k = 16  | Training Accuracy = 1.0   | Test Accuracy = 0.451\n",
      "i-th digit: 0, j-th digit: 9\n",
      "k = 2   | Training Accuracy = 0.756 | Test Accuracy = 0.661\n",
      "k = 4   | Training Accuracy = 0.944 | Test Accuracy = 0.928\n",
      "k = 6   | Training Accuracy = 0.972 | Test Accuracy = 0.957\n",
      "k = 8   | Training Accuracy = 1.0   | Test Accuracy = 0.861\n",
      "k = 10  | Training Accuracy = 1.0   | Test Accuracy = 0.771\n",
      "k = 12  | Training Accuracy = 1.0   | Test Accuracy = 0.633\n",
      "k = 14  | Training Accuracy = 1.0   | Test Accuracy = 0.652\n",
      "k = 16  | Training Accuracy = 1.0   | Test Accuracy = 0.523\n",
      "i-th digit: 1, j-th digit: 2\n",
      "k = 2   | Training Accuracy = 0.698 | Test Accuracy = 0.607\n",
      "k = 4   | Training Accuracy = 0.959 | Test Accuracy = 0.931\n",
      "k = 6   | Training Accuracy = 0.984 | Test Accuracy = 0.884\n",
      "k = 8   | Training Accuracy = 1.0   | Test Accuracy = 0.853\n",
      "k = 10  | Training Accuracy = 1.0   | Test Accuracy = 0.696\n",
      "k = 12  | Training Accuracy = 1.0   | Test Accuracy = 0.664\n",
      "k = 14  | Training Accuracy = 1.0   | Test Accuracy = 0.670\n",
      "k = 16  | Training Accuracy = 1.0   | Test Accuracy = 0.649\n",
      "i-th digit: 1, j-th digit: 3\n",
      "k = 2   | Training Accuracy = 0.711 | Test Accuracy = 0.707\n",
      "k = 4   | Training Accuracy = 0.939 | Test Accuracy = 0.933\n",
      "k = 6   | Training Accuracy = 1.0   | Test Accuracy = 0.897\n",
      "k = 8   | Training Accuracy = 1.0   | Test Accuracy = 0.830\n",
      "k = 10  | Training Accuracy = 1.0   | Test Accuracy = 0.702\n",
      "k = 12  | Training Accuracy = 1.0   | Test Accuracy = 0.620\n",
      "k = 14  | Training Accuracy = 1.0   | Test Accuracy = 0.641\n",
      "k = 16  | Training Accuracy = 1.0   | Test Accuracy = 0.533\n",
      "i-th digit: 1, j-th digit: 4\n",
      "k = 2   | Training Accuracy = 0.758 | Test Accuracy = 0.797\n",
      "k = 4   | Training Accuracy = 0.950 | Test Accuracy = 0.940\n",
      "k = 6   | Training Accuracy = 0.995 | Test Accuracy = 0.886\n",
      "k = 8   | Training Accuracy = 1.0   | Test Accuracy = 0.880\n",
      "k = 10  | Training Accuracy = 1.0   | Test Accuracy = 0.708\n",
      "k = 12  | Training Accuracy = 1.0   | Test Accuracy = 0.684\n",
      "k = 14  | Training Accuracy = 1.0   | Test Accuracy = 0.714\n",
      "k = 16  | Training Accuracy = 1.0   | Test Accuracy = 0.607\n",
      "i-th digit: 1, j-th digit: 5\n",
      "k = 2   | Training Accuracy = 0.910 | Test Accuracy = 0.914\n",
      "k = 4   | Training Accuracy = 0.970 | Test Accuracy = 0.934\n",
      "k = 6   | Training Accuracy = 1.0   | Test Accuracy = 0.914\n",
      "k = 8   | Training Accuracy = 1.0   | Test Accuracy = 0.747\n",
      "k = 10  | Training Accuracy = 1.0   | Test Accuracy = 0.727\n",
      "k = 12  | Training Accuracy = 1.0   | Test Accuracy = 0.671\n",
      "k = 14  | Training Accuracy = 1.0   | Test Accuracy = 0.590\n",
      "k = 16  | Training Accuracy = 1.0   | Test Accuracy = 0.611\n",
      "i-th digit: 1, j-th digit: 6\n",
      "k = 2   | Training Accuracy = 0.631 | Test Accuracy = 0.668\n",
      "k = 4   | Training Accuracy = 0.967 | Test Accuracy = 0.973\n",
      "k = 6   | Training Accuracy = 0.995 | Test Accuracy = 0.931\n",
      "k = 8   | Training Accuracy = 1.0   | Test Accuracy = 0.763\n",
      "k = 10  | Training Accuracy = 1.0   | Test Accuracy = 0.663\n",
      "k = 12  | Training Accuracy = 1.0   | Test Accuracy = 0.773\n",
      "k = 14  | Training Accuracy = 1.0   | Test Accuracy = 0.642\n",
      "k = 16  | Training Accuracy = 1.0   | Test Accuracy = 0.647\n",
      "i-th digit: 1, j-th digit: 7\n",
      "k = 2   | Training Accuracy = 0.763 | Test Accuracy = 0.668\n",
      "k = 4   | Training Accuracy = 0.937 | Test Accuracy = 0.894\n",
      "k = 6   | Training Accuracy = 1.0   | Test Accuracy = 0.929\n",
      "k = 8   | Training Accuracy = 1.0   | Test Accuracy = 0.894\n",
      "k = 10  | Training Accuracy = 1.0   | Test Accuracy = 0.793\n",
      "k = 12  | Training Accuracy = 1.0   | Test Accuracy = 0.688\n",
      "k = 14  | Training Accuracy = 1.0   | Test Accuracy = 0.597\n",
      "k = 16  | Training Accuracy = 1.0   | Test Accuracy = 0.623\n",
      "i-th digit: 1, j-th digit: 8\n",
      "k = 2   | Training Accuracy = 0.669 | Test Accuracy = 0.700\n",
      "k = 4   | Training Accuracy = 0.910 | Test Accuracy = 0.903\n",
      "k = 6   | Training Accuracy = 0.995 | Test Accuracy = 0.920\n",
      "k = 8   | Training Accuracy = 1.0   | Test Accuracy = 0.858\n",
      "k = 10  | Training Accuracy = 1.0   | Test Accuracy = 0.785\n",
      "k = 12  | Training Accuracy = 1.0   | Test Accuracy = 0.728\n",
      "k = 14  | Training Accuracy = 1.0   | Test Accuracy = 0.615\n",
      "k = 16  | Training Accuracy = 1.0   | Test Accuracy = 0.649\n",
      "i-th digit: 1, j-th digit: 9\n",
      "k = 2   | Training Accuracy = 0.912 | Test Accuracy = 0.942\n"
     ]
    },
    {
     "name": "stdout",
     "output_type": "stream",
     "text": [
      "k = 4   | Training Accuracy = 0.887 | Test Accuracy = 0.911\n",
      "k = 6   | Training Accuracy = 1.0   | Test Accuracy = 0.973\n",
      "k = 8   | Training Accuracy = 1.0   | Test Accuracy = 0.947\n",
      "k = 10  | Training Accuracy = 1.0   | Test Accuracy = 0.682\n",
      "k = 12  | Training Accuracy = 1.0   | Test Accuracy = 0.687\n",
      "k = 14  | Training Accuracy = 1.0   | Test Accuracy = 0.656\n",
      "k = 16  | Training Accuracy = 1.0   | Test Accuracy = 0.567\n",
      "i-th digit: 2, j-th digit: 3\n",
      "k = 2   | Training Accuracy = 0.652 | Test Accuracy = 0.709\n",
      "k = 4   | Training Accuracy = 0.942 | Test Accuracy = 0.876\n",
      "k = 6   | Training Accuracy = 0.957 | Test Accuracy = 0.876\n",
      "k = 8   | Training Accuracy = 1.0   | Test Accuracy = 0.804\n",
      "k = 10  | Training Accuracy = 1.0   | Test Accuracy = 0.623\n",
      "k = 12  | Training Accuracy = 1.0   | Test Accuracy = 0.571\n",
      "k = 14  | Training Accuracy = 1.0   | Test Accuracy = 0.542\n",
      "k = 16  | Training Accuracy = 1.0   | Test Accuracy = 0.528\n",
      "i-th digit: 2, j-th digit: 4\n",
      "k = 2   | Training Accuracy = 0.606 | Test Accuracy = 0.606\n",
      "k = 4   | Training Accuracy = 0.932 | Test Accuracy = 0.896\n",
      "k = 6   | Training Accuracy = 0.988 | Test Accuracy = 0.907\n",
      "k = 8   | Training Accuracy = 1.0   | Test Accuracy = 0.748\n",
      "k = 10  | Training Accuracy = 1.0   | Test Accuracy = 0.633\n",
      "k = 12  | Training Accuracy = 1.0   | Test Accuracy = 0.497\n",
      "k = 14  | Training Accuracy = 1.0   | Test Accuracy = 0.530\n",
      "k = 16  | Training Accuracy = 1.0   | Test Accuracy = 0.530\n",
      "i-th digit: 2, j-th digit: 5\n",
      "k = 2   | Training Accuracy = 0.744 | Test Accuracy = 0.685\n",
      "k = 4   | Training Accuracy = 0.886 | Test Accuracy = 0.901\n",
      "k = 6   | Training Accuracy = 1.0   | Test Accuracy = 0.845\n",
      "k = 8   | Training Accuracy = 1.0   | Test Accuracy = 0.760\n",
      "k = 10  | Training Accuracy = 1.0   | Test Accuracy = 0.558\n",
      "k = 12  | Training Accuracy = 1.0   | Test Accuracy = 0.558\n",
      "k = 14  | Training Accuracy = 1.0   | Test Accuracy = 0.488\n",
      "k = 16  | Training Accuracy = 1.0   | Test Accuracy = 0.488\n",
      "i-th digit: 2, j-th digit: 6\n",
      "k = 2   | Training Accuracy = 0.822 | Test Accuracy = 0.785\n",
      "k = 4   | Training Accuracy = 0.859 | Test Accuracy = 0.741\n",
      "k = 6   | Training Accuracy = 0.984 | Test Accuracy = 0.804\n",
      "k = 8   | Training Accuracy = 0.989 | Test Accuracy = 0.765\n",
      "k = 10  | Training Accuracy = 1.0   | Test Accuracy = 0.585\n",
      "k = 12  | Training Accuracy = 1.0   | Test Accuracy = 0.512\n",
      "k = 14  | Training Accuracy = 1.0   | Test Accuracy = 0.497\n",
      "k = 16  | Training Accuracy = 1.0   | Test Accuracy = 0.482\n",
      "i-th digit: 2, j-th digit: 7\n",
      "k = 2   | Training Accuracy = 0.664 | Test Accuracy = 0.654\n",
      "k = 4   | Training Accuracy = 0.917 | Test Accuracy = 0.878\n",
      "k = 6   | Training Accuracy = 0.994 | Test Accuracy = 0.929\n",
      "k = 8   | Training Accuracy = 1.0   | Test Accuracy = 0.827\n",
      "k = 10  | Training Accuracy = 1.0   | Test Accuracy = 0.686\n",
      "k = 12  | Training Accuracy = 1.0   | Test Accuracy = 0.616\n",
      "k = 14  | Training Accuracy = 1.0   | Test Accuracy = 0.528\n",
      "k = 16  | Training Accuracy = 1.0   | Test Accuracy = 0.588\n",
      "i-th digit: 2, j-th digit: 8\n",
      "k = 2   | Training Accuracy = 0.652 | Test Accuracy = 0.630\n",
      "k = 4   | Training Accuracy = 0.855 | Test Accuracy = 0.828\n",
      "k = 6   | Training Accuracy = 0.978 | Test Accuracy = 0.911\n",
      "k = 8   | Training Accuracy = 0.994 | Test Accuracy = 0.744\n",
      "k = 10  | Training Accuracy = 1.0   | Test Accuracy = 0.645\n",
      "k = 12  | Training Accuracy = 1.0   | Test Accuracy = 0.494\n",
      "k = 14  | Training Accuracy = 1.0   | Test Accuracy = 0.489\n",
      "k = 16  | Training Accuracy = 1.0   | Test Accuracy = 0.505\n",
      "i-th digit: 2, j-th digit: 9\n",
      "k = 2   | Training Accuracy = 0.744 | Test Accuracy = 0.743\n",
      "k = 4   | Training Accuracy = 0.879 | Test Accuracy = 0.874\n",
      "k = 6   | Training Accuracy = 0.976 | Test Accuracy = 0.937\n",
      "k = 8   | Training Accuracy = 1.0   | Test Accuracy = 0.869\n",
      "k = 10  | Training Accuracy = 1.0   | Test Accuracy = 0.753\n",
      "k = 12  | Training Accuracy = 1.0   | Test Accuracy = 0.618\n",
      "k = 14  | Training Accuracy = 1.0   | Test Accuracy = 0.570\n",
      "k = 16  | Training Accuracy = 1.0   | Test Accuracy = 0.550\n",
      "i-th digit: 3, j-th digit: 4\n",
      "k = 2   | Training Accuracy = 0.726 | Test Accuracy = 0.737\n",
      "k = 4   | Training Accuracy = 0.845 | Test Accuracy = 0.877\n",
      "k = 6   | Training Accuracy = 0.984 | Test Accuracy = 0.871\n",
      "k = 8   | Training Accuracy = 1.0   | Test Accuracy = 0.834\n",
      "k = 10  | Training Accuracy = 1.0   | Test Accuracy = 0.647\n",
      "k = 12  | Training Accuracy = 1.0   | Test Accuracy = 0.561\n",
      "k = 14  | Training Accuracy = 1.0   | Test Accuracy = 0.529\n",
      "k = 16  | Training Accuracy = 1.0   | Test Accuracy = 0.598\n",
      "i-th digit: 3, j-th digit: 5\n",
      "k = 2   | Training Accuracy = 0.614 | Test Accuracy = 0.603\n",
      "k = 4   | Training Accuracy = 0.828 | Test Accuracy = 0.764\n",
      "k = 6   | Training Accuracy = 0.953 | Test Accuracy = 0.806\n",
      "k = 8   | Training Accuracy = 1.0   | Test Accuracy = 0.746\n",
      "k = 10  | Training Accuracy = 1.0   | Test Accuracy = 0.645\n",
      "k = 12  | Training Accuracy = 1.0   | Test Accuracy = 0.497\n",
      "k = 14  | Training Accuracy = 1.0   | Test Accuracy = 0.447\n",
      "k = 16  | Training Accuracy = 1.0   | Test Accuracy = 0.529\n",
      "i-th digit: 3, j-th digit: 6\n",
      "k = 2   | Training Accuracy = 0.831 | Test Accuracy = 0.813\n",
      "k = 4   | Training Accuracy = 0.942 | Test Accuracy = 0.933\n",
      "k = 6   | Training Accuracy = 0.985 | Test Accuracy = 0.875\n",
      "k = 8   | Training Accuracy = 1.0   | Test Accuracy = 0.885\n",
      "k = 10  | Training Accuracy = 1.0   | Test Accuracy = 0.684\n",
      "k = 12  | Training Accuracy = 1.0   | Test Accuracy = 0.578\n",
      "k = 14  | Training Accuracy = 1.0   | Test Accuracy = 0.531\n",
      "k = 16  | Training Accuracy = 1.0   | Test Accuracy = 0.540\n",
      "i-th digit: 3, j-th digit: 7\n",
      "k = 2   | Training Accuracy = 0.727 | Test Accuracy = 0.701\n",
      "k = 4   | Training Accuracy = 0.934 | Test Accuracy = 0.908\n",
      "k = 6   | Training Accuracy = 0.964 | Test Accuracy = 0.894\n",
      "k = 8   | Training Accuracy = 1.0   | Test Accuracy = 0.743\n",
      "k = 10  | Training Accuracy = 1.0   | Test Accuracy = 0.660\n",
      "k = 12  | Training Accuracy = 1.0   | Test Accuracy = 0.504\n",
      "k = 14  | Training Accuracy = 1.0   | Test Accuracy = 0.495\n",
      "k = 16  | Training Accuracy = 1.0   | Test Accuracy = 0.504\n",
      "i-th digit: 3, j-th digit: 8\n",
      "k = 2   | Training Accuracy = 0.507 | Test Accuracy = 0.545\n",
      "k = 4   | Training Accuracy = 0.871 | Test Accuracy = 0.831\n",
      "k = 6   | Training Accuracy = 0.940 | Test Accuracy = 0.775\n",
      "k = 8   | Training Accuracy = 1.0   | Test Accuracy = 0.729\n",
      "k = 10  | Training Accuracy = 1.0   | Test Accuracy = 0.622\n",
      "k = 12  | Training Accuracy = 1.0   | Test Accuracy = 0.525\n",
      "k = 14  | Training Accuracy = 1.0   | Test Accuracy = 0.535\n",
      "k = 16  | Training Accuracy = 1.0   | Test Accuracy = 0.5\n",
      "i-th digit: 3, j-th digit: 9\n",
      "k = 2   | Training Accuracy = 0.683 | Test Accuracy = 0.682\n",
      "k = 4   | Training Accuracy = 0.870 | Test Accuracy = 0.853\n",
      "k = 6   | Training Accuracy = 0.987 | Test Accuracy = 0.952\n",
      "k = 8   | Training Accuracy = 1.0   | Test Accuracy = 0.862\n",
      "k = 10  | Training Accuracy = 1.0   | Test Accuracy = 0.677\n",
      "k = 12  | Training Accuracy = 1.0   | Test Accuracy = 0.606\n",
      "k = 14  | Training Accuracy = 1.0   | Test Accuracy = 0.535\n",
      "k = 16  | Training Accuracy = 1.0   | Test Accuracy = 0.507\n",
      "i-th digit: 4, j-th digit: 5\n",
      "k = 2   | Training Accuracy = 0.733 | Test Accuracy = 0.763\n",
      "k = 4   | Training Accuracy = 0.833 | Test Accuracy = 0.878\n",
      "k = 6   | Training Accuracy = 1.0   | Test Accuracy = 0.810\n",
      "k = 8   | Training Accuracy = 1.0   | Test Accuracy = 0.742\n",
      "k = 10  | Training Accuracy = 1.0   | Test Accuracy = 0.626\n",
      "k = 12  | Training Accuracy = 1.0   | Test Accuracy = 0.521\n",
      "k = 14  | Training Accuracy = 1.0   | Test Accuracy = 0.557\n",
      "k = 16  | Training Accuracy = 1.0   | Test Accuracy = 0.505\n",
      "i-th digit: 4, j-th digit: 6\n",
      "k = 2   | Training Accuracy = 0.673 | Test Accuracy = 0.549\n",
      "k = 4   | Training Accuracy = 0.862 | Test Accuracy = 0.741\n",
      "k = 6   | Training Accuracy = 0.974 | Test Accuracy = 0.884\n",
      "k = 8   | Training Accuracy = 0.994 | Test Accuracy = 0.857\n",
      "k = 10  | Training Accuracy = 1.0   | Test Accuracy = 0.565\n",
      "k = 12  | Training Accuracy = 1.0   | Test Accuracy = 0.565\n",
      "k = 14  | Training Accuracy = 1.0   | Test Accuracy = 0.494\n",
      "k = 16  | Training Accuracy = 1.0   | Test Accuracy = 0.483\n",
      "i-th digit: 4, j-th digit: 7\n",
      "k = 2   | Training Accuracy = 0.666 | Test Accuracy = 0.617\n",
      "k = 4   | Training Accuracy = 0.833 | Test Accuracy = 0.821\n"
     ]
    },
    {
     "name": "stdout",
     "output_type": "stream",
     "text": [
      "k = 6   | Training Accuracy = 0.940 | Test Accuracy = 0.926\n",
      "k = 8   | Training Accuracy = 1.0   | Test Accuracy = 0.738\n",
      "k = 10  | Training Accuracy = 1.0   | Test Accuracy = 0.628\n",
      "k = 12  | Training Accuracy = 1.0   | Test Accuracy = 0.544\n",
      "k = 14  | Training Accuracy = 1.0   | Test Accuracy = 0.492\n",
      "k = 16  | Training Accuracy = 1.0   | Test Accuracy = 0.492\n",
      "i-th digit: 4, j-th digit: 8\n",
      "k = 2   | Training Accuracy = 0.774 | Test Accuracy = 0.816\n",
      "k = 4   | Training Accuracy = 0.910 | Test Accuracy = 0.857\n",
      "k = 6   | Training Accuracy = 0.979 | Test Accuracy = 0.893\n",
      "k = 8   | Training Accuracy = 0.994 | Test Accuracy = 0.834\n",
      "k = 10  | Training Accuracy = 1.0   | Test Accuracy = 0.615\n",
      "k = 12  | Training Accuracy = 1.0   | Test Accuracy = 0.420\n",
      "k = 14  | Training Accuracy = 1.0   | Test Accuracy = 0.526\n",
      "k = 16  | Training Accuracy = 1.0   | Test Accuracy = 0.467\n",
      "i-th digit: 4, j-th digit: 9\n",
      "k = 2   | Training Accuracy = 0.643 | Test Accuracy = 0.619\n",
      "k = 4   | Training Accuracy = 0.757 | Test Accuracy = 0.684\n",
      "k = 6   | Training Accuracy = 0.840 | Test Accuracy = 0.641\n",
      "k = 8   | Training Accuracy = 0.977 | Test Accuracy = 0.804\n",
      "k = 10  | Training Accuracy = 1.0   | Test Accuracy = 0.663\n",
      "k = 12  | Training Accuracy = 1.0   | Test Accuracy = 0.597\n",
      "k = 14  | Training Accuracy = 1.0   | Test Accuracy = 0.565\n",
      "k = 16  | Training Accuracy = 1.0   | Test Accuracy = 0.478\n",
      "i-th digit: 5, j-th digit: 6\n",
      "k = 2   | Training Accuracy = 0.757 | Test Accuracy = 0.745\n",
      "k = 4   | Training Accuracy = 0.840 | Test Accuracy = 0.787\n",
      "k = 6   | Training Accuracy = 0.989 | Test Accuracy = 0.849\n",
      "k = 8   | Training Accuracy = 0.994 | Test Accuracy = 0.773\n",
      "k = 10  | Training Accuracy = 1.0   | Test Accuracy = 0.627\n",
      "k = 12  | Training Accuracy = 1.0   | Test Accuracy = 0.580\n",
      "k = 14  | Training Accuracy = 1.0   | Test Accuracy = 0.542\n",
      "k = 16  | Training Accuracy = 1.0   | Test Accuracy = 0.462\n",
      "i-th digit: 5, j-th digit: 7\n",
      "k = 2   | Training Accuracy = 0.809 | Test Accuracy = 0.819\n",
      "k = 4   | Training Accuracy = 0.885 | Test Accuracy = 0.837\n",
      "k = 6   | Training Accuracy = 0.989 | Test Accuracy = 0.882\n",
      "k = 8   | Training Accuracy = 1.0   | Test Accuracy = 0.782\n",
      "k = 10  | Training Accuracy = 1.0   | Test Accuracy = 0.651\n",
      "k = 12  | Training Accuracy = 1.0   | Test Accuracy = 0.556\n",
      "k = 14  | Training Accuracy = 1.0   | Test Accuracy = 0.488\n",
      "k = 16  | Training Accuracy = 1.0   | Test Accuracy = 0.538\n",
      "i-th digit: 5, j-th digit: 8\n",
      "k = 2   | Training Accuracy = 0.735 | Test Accuracy = 0.673\n",
      "k = 4   | Training Accuracy = 0.857 | Test Accuracy = 0.854\n",
      "k = 6   | Training Accuracy = 0.973 | Test Accuracy = 0.798\n",
      "k = 8   | Training Accuracy = 1.0   | Test Accuracy = 0.768\n",
      "k = 10  | Training Accuracy = 1.0   | Test Accuracy = 0.577\n",
      "k = 12  | Training Accuracy = 1.0   | Test Accuracy = 0.492\n",
      "k = 14  | Training Accuracy = 1.0   | Test Accuracy = 0.562\n",
      "k = 16  | Training Accuracy = 1.0   | Test Accuracy = 0.472\n",
      "i-th digit: 5, j-th digit: 9\n",
      "k = 2   | Training Accuracy = 0.682 | Test Accuracy = 0.630\n",
      "k = 4   | Training Accuracy = 0.898 | Test Accuracy = 0.920\n",
      "k = 6   | Training Accuracy = 0.963 | Test Accuracy = 0.864\n",
      "k = 8   | Training Accuracy = 0.995 | Test Accuracy = 0.817\n",
      "k = 10  | Training Accuracy = 1.0   | Test Accuracy = 0.668\n",
      "k = 12  | Training Accuracy = 1.0   | Test Accuracy = 0.584\n",
      "k = 14  | Training Accuracy = 1.0   | Test Accuracy = 0.570\n",
      "k = 16  | Training Accuracy = 1.0   | Test Accuracy = 0.518\n",
      "i-th digit: 6, j-th digit: 7\n",
      "k = 2   | Training Accuracy = 0.785 | Test Accuracy = 0.845\n",
      "k = 4   | Training Accuracy = 0.935 | Test Accuracy = 0.924\n",
      "k = 6   | Training Accuracy = 1.0   | Test Accuracy = 0.924\n",
      "k = 8   | Training Accuracy = 1.0   | Test Accuracy = 0.859\n",
      "k = 10  | Training Accuracy = 1.0   | Test Accuracy = 0.704\n",
      "k = 12  | Training Accuracy = 1.0   | Test Accuracy = 0.539\n",
      "k = 14  | Training Accuracy = 1.0   | Test Accuracy = 0.596\n",
      "k = 16  | Training Accuracy = 1.0   | Test Accuracy = 0.492\n",
      "i-th digit: 6, j-th digit: 8\n",
      "k = 2   | Training Accuracy = 0.843 | Test Accuracy = 0.858\n",
      "k = 4   | Training Accuracy = 0.907 | Test Accuracy = 0.821\n",
      "k = 6   | Training Accuracy = 0.995 | Test Accuracy = 0.916\n",
      "k = 8   | Training Accuracy = 1.0   | Test Accuracy = 0.738\n",
      "k = 10  | Training Accuracy = 1.0   | Test Accuracy = 0.659\n",
      "k = 12  | Training Accuracy = 1.0   | Test Accuracy = 0.528\n",
      "k = 14  | Training Accuracy = 1.0   | Test Accuracy = 0.513\n",
      "k = 16  | Training Accuracy = 1.0   | Test Accuracy = 0.486\n",
      "i-th digit: 6, j-th digit: 9\n",
      "k = 2   | Training Accuracy = 0.703 | Test Accuracy = 0.708\n",
      "k = 4   | Training Accuracy = 0.918 | Test Accuracy = 0.912\n",
      "k = 6   | Training Accuracy = 0.978 | Test Accuracy = 0.912\n",
      "k = 8   | Training Accuracy = 0.995 | Test Accuracy = 0.873\n",
      "k = 10  | Training Accuracy = 1.0   | Test Accuracy = 0.752\n",
      "k = 12  | Training Accuracy = 1.0   | Test Accuracy = 0.626\n",
      "k = 14  | Training Accuracy = 1.0   | Test Accuracy = 0.572\n",
      "k = 16  | Training Accuracy = 1.0   | Test Accuracy = 0.548\n",
      "i-th digit: 7, j-th digit: 8\n",
      "k = 2   | Training Accuracy = 0.615 | Test Accuracy = 0.65\n",
      "k = 4   | Training Accuracy = 0.948 | Test Accuracy = 0.87\n",
      "k = 6   | Training Accuracy = 0.989 | Test Accuracy = 0.88\n",
      "k = 8   | Training Accuracy = 1.0   | Test Accuracy = 0.835\n",
      "k = 10  | Training Accuracy = 1.0   | Test Accuracy = 0.575\n",
      "k = 12  | Training Accuracy = 1.0   | Test Accuracy = 0.635\n",
      "k = 14  | Training Accuracy = 1.0   | Test Accuracy = 0.495\n",
      "k = 16  | Training Accuracy = 1.0   | Test Accuracy = 0.475\n",
      "i-th digit: 7, j-th digit: 9\n",
      "k = 2   | Training Accuracy = 0.582 | Test Accuracy = 0.506\n",
      "k = 4   | Training Accuracy = 0.798 | Test Accuracy = 0.720\n",
      "k = 6   | Training Accuracy = 0.941 | Test Accuracy = 0.767\n",
      "k = 8   | Training Accuracy = 0.991 | Test Accuracy = 0.711\n",
      "k = 10  | Training Accuracy = 1.0   | Test Accuracy = 0.6\n",
      "k = 12  | Training Accuracy = 1.0   | Test Accuracy = 0.627\n",
      "k = 14  | Training Accuracy = 1.0   | Test Accuracy = 0.479\n",
      "k = 16  | Training Accuracy = 1.0   | Test Accuracy = 0.488\n",
      "i-th digit: 8, j-th digit: 9\n",
      "k = 2   | Training Accuracy = 0.574 | Test Accuracy = 0.611\n",
      "k = 4   | Training Accuracy = 0.881 | Test Accuracy = 0.834\n",
      "k = 6   | Training Accuracy = 0.969 | Test Accuracy = 0.787\n",
      "k = 8   | Training Accuracy = 0.991 | Test Accuracy = 0.870\n",
      "k = 10  | Training Accuracy = 1.0   | Test Accuracy = 0.637\n",
      "k = 12  | Training Accuracy = 1.0   | Test Accuracy = 0.512\n",
      "k = 14  | Training Accuracy = 1.0   | Test Accuracy = 0.569\n",
      "k = 16  | Training Accuracy = 1.0   | Test Accuracy = 0.481\n"
     ]
    }
   ],
   "source": [
    "pairwise_matrix=np.identity(10)\n",
    "\n",
    "k_list=[]\n",
    "train_acc_list=[]\n",
    "test_acc_list=[]\n",
    "        \n",
    "for digit_i in range(pairwise_matrix.shape[0]):\n",
    "    for digit_j in range(pairwise_matrix.shape[1]):\n",
    "        if pairwise_matrix[digit_i, digit_j]==0:\n",
    "            new_train_set, new_test_set = create_pairwise_dataset(digit_i, digit_j, train_set, valid_set)\n",
    "            X_train, y_train = new_train_set[0], new_train_set[1]\n",
    "            X_test, y_test = new_test_set[0], new_test_set[1]\n",
    "            \n",
    "            #uptade conditions\n",
    "            pairwise_matrix[digit_i, digit_j]=1\n",
    "            pairwise_matrix[digit_j, digit_i]=1\n",
    "\n",
    "            #calculate for each dataset and each k, training and test accuracy\n",
    "            print('i-th digit: {a}, j-th digit: {b}'.format(a=digit_i, b=digit_j))\n",
    "            for k in [2,4,6,8,10,12,14,16]:\n",
    "                model = Memorization(layers, k)\n",
    "                model.fit(X_train, y_train)\n",
    "                \n",
    "                train_acc = model.accuracy(X_train, y_train)\n",
    "                test_acc = model.accuracy(X_test, y_test)\n",
    "                \n",
    "                k_list.append(k)\n",
    "                train_acc_list.append(train_acc)\n",
    "                test_acc_list.append(test_acc)\n",
    "                \n",
    "                print(\"k = \" + (str(k) + \"  \")[:3]\n",
    "          + \" | Training Accuracy = \" + (str(train_acc) + \"   \")[:5] \n",
    "          + \" | Test Accuracy = \" + str(test_acc)[:5])"
   ]
  },
  {
   "cell_type": "code",
   "execution_count": 35,
   "metadata": {},
   "outputs": [
    {
     "data": {
      "image/png": "[encoded data removed]",
      "text/plain": [
       "<Figure size 432x288 with 1 Axes>"
      ]
     },
     "metadata": {
      "needs_background": "light"
     },
     "output_type": "display_data"
    }
   ],
   "source": [
    "#display graph\n",
    "plt.plot(k_list, train_acc_list, 'b+', label='training')\n",
    "plt.plot(k_list,test_acc_list, 'r+', label='test')\n",
    "plt.title('45×8 pairs of training and test accuracies as a function of the size of the lookup table (k) for Pairwise-MNIST')\n",
    "plt.legend()\n",
    "plt.xlabel('k')\n",
    "plt.ylabel('accuracy')\n",
    "plt.ylim(0,1.1)\n",
    "plt.show()"
   ]
  },
  {
   "cell_type": "markdown",
   "metadata": {},
   "source": [
    "### Expérimentation n°6\n",
    "\n",
    "L'objectif de l'expérience est de reproduire l'expérience 5 en gardant k=2 et en faisant varier le nombre de couches (de 2^0 à 2^5). Chaque couche à 1024 luts."
   ]
  },
  {
   "cell_type": "code",
   "execution_count": 224,
   "metadata": {
    "scrolled": true
   },
   "outputs": [
    {
     "name": "stdout",
     "output_type": "stream",
     "text": [
      "i-th digit: 0, j-th digit: 1\n",
      "d = 0   | Training Accuracy = 0.554 | Test Accuracy = 0.484\n",
      "d = 1   | Training Accuracy = 0.738 | Test Accuracy = 0.666\n",
      "d = 2   | Training Accuracy = 0.554 | Test Accuracy = 0.484\n",
      "d = 3   | Training Accuracy = 0.769 | Test Accuracy = 0.777\n",
      "d = 4   | Training Accuracy = 0.874 | Test Accuracy = 0.866\n",
      "d = 5   | Training Accuracy = 0.910 | Test Accuracy = 0.96\n",
      "i-th digit: 0, j-th digit: 2\n",
      "d = 0   | Training Accuracy = 0.519 | Test Accuracy = 0.598\n",
      "d = 1   | Training Accuracy = 0.524 | Test Accuracy = 0.604\n",
      "d = 2   | Training Accuracy = 0.730 | Test Accuracy = 0.725\n",
      "d = 3   | Training Accuracy = 0.789 | Test Accuracy = 0.791\n",
      "d = 4   | Training Accuracy = 0.740 | Test Accuracy = 0.741\n",
      "d = 5   | Training Accuracy = 0.808 | Test Accuracy = 0.791\n",
      "i-th digit: 0, j-th digit: 3\n",
      "d = 0   | Training Accuracy = 0.741 | Test Accuracy = 0.810\n",
      "d = 1   | Training Accuracy = 0.732 | Test Accuracy = 0.759\n",
      "d = 2   | Training Accuracy = 0.741 | Test Accuracy = 0.810\n",
      "d = 3   | Training Accuracy = 0.816 | Test Accuracy = 0.851\n",
      "d = 4   | Training Accuracy = 0.854 | Test Accuracy = 0.847\n",
      "d = 5   | Training Accuracy = 0.882 | Test Accuracy = 0.888\n",
      "i-th digit: 0, j-th digit: 4\n",
      "d = 0   | Training Accuracy = 0.751 | Test Accuracy = 0.696\n",
      "d = 1   | Training Accuracy = 0.552 | Test Accuracy = 0.545\n",
      "d = 2   | Training Accuracy = 0.714 | Test Accuracy = 0.739\n",
      "d = 3   | Training Accuracy = 0.829 | Test Accuracy = 0.867\n",
      "d = 4   | Training Accuracy = 0.866 | Test Accuracy = 0.829\n",
      "d = 5   | Training Accuracy = 0.894 | Test Accuracy = 0.895\n",
      "i-th digit: 0, j-th digit: 5\n",
      "d = 0   | Training Accuracy = 0.603 | Test Accuracy = 0.713\n",
      "d = 1   | Training Accuracy = 0.788 | Test Accuracy = 0.686\n",
      "d = 2   | Training Accuracy = 0.653 | Test Accuracy = 0.594\n",
      "d = 3   | Training Accuracy = 0.763 | Test Accuracy = 0.745\n",
      "d = 4   | Training Accuracy = 0.929 | Test Accuracy = 0.891\n",
      "d = 5   | Training Accuracy = 0.793 | Test Accuracy = 0.816\n",
      "i-th digit: 0, j-th digit: 6\n",
      "d = 0   | Training Accuracy = 0.611 | Test Accuracy = 0.685\n",
      "d = 1   | Training Accuracy = 0.781 | Test Accuracy = 0.790\n",
      "d = 2   | Training Accuracy = 0.796 | Test Accuracy = 0.8\n",
      "d = 3   | Training Accuracy = 0.786 | Test Accuracy = 0.757\n",
      "d = 4   | Training Accuracy = 0.840 | Test Accuracy = 0.790\n",
      "d = 5   | Training Accuracy = 0.895 | Test Accuracy = 0.9\n",
      "i-th digit: 0, j-th digit: 7\n",
      "d = 0   | Training Accuracy = 0.734 | Test Accuracy = 0.693\n",
      "d = 1   | Training Accuracy = 0.756 | Test Accuracy = 0.736\n",
      "d = 2   | Training Accuracy = 0.788 | Test Accuracy = 0.799\n",
      "d = 3   | Training Accuracy = 0.891 | Test Accuracy = 0.837\n",
      "d = 4   | Training Accuracy = 0.878 | Test Accuracy = 0.784\n",
      "d = 5   | Training Accuracy = 0.855 | Test Accuracy = 0.813\n",
      "i-th digit: 0, j-th digit: 8\n",
      "d = 0   | Training Accuracy = 0.722 | Test Accuracy = 0.689\n",
      "d = 1   | Training Accuracy = 0.651 | Test Accuracy = 0.635\n",
      "d = 2   | Training Accuracy = 0.545 | Test Accuracy = 0.490\n",
      "d = 3   | Training Accuracy = 0.712 | Test Accuracy = 0.671\n",
      "d = 4   | Training Accuracy = 0.823 | Test Accuracy = 0.801\n",
      "d = 5   | Training Accuracy = 0.934 | Test Accuracy = 0.900\n",
      "i-th digit: 0, j-th digit: 9\n",
      "d = 0   | Training Accuracy = 0.610 | Test Accuracy = 0.575\n",
      "d = 1   | Training Accuracy = 0.527 | Test Accuracy = 0.518\n",
      "d = 2   | Training Accuracy = 0.886 | Test Accuracy = 0.830\n",
      "d = 3   | Training Accuracy = 0.896 | Test Accuracy = 0.896\n",
      "d = 4   | Training Accuracy = 0.768 | Test Accuracy = 0.735\n",
      "d = 5   | Training Accuracy = 0.871 | Test Accuracy = 0.844\n",
      "i-th digit: 1, j-th digit: 2\n",
      "d = 0   | Training Accuracy = 0.535 | Test Accuracy = 0.386\n",
      "d = 1   | Training Accuracy = 0.814 | Test Accuracy = 0.920\n",
      "d = 2   | Training Accuracy = 0.683 | Test Accuracy = 0.735\n",
      "d = 3   | Training Accuracy = 0.803 | Test Accuracy = 0.841\n",
      "d = 4   | Training Accuracy = 0.781 | Test Accuracy = 0.772\n",
      "d = 5   | Training Accuracy = 0.961 | Test Accuracy = 0.925\n",
      "i-th digit: 1, j-th digit: 3\n",
      "d = 0   | Training Accuracy = 0.671 | Test Accuracy = 0.730\n",
      "d = 1   | Training Accuracy = 0.770 | Test Accuracy = 0.744\n",
      "d = 2   | Training Accuracy = 0.843 | Test Accuracy = 0.807\n",
      "d = 3   | Training Accuracy = 0.651 | Test Accuracy = 0.695\n",
      "d = 4   | Training Accuracy = 0.744 | Test Accuracy = 0.780\n",
      "d = 5   | Training Accuracy = 0.812 | Test Accuracy = 0.789\n",
      "i-th digit: 1, j-th digit: 4\n",
      "d = 0   | Training Accuracy = 0.566 | Test Accuracy = 0.467\n",
      "d = 1   | Training Accuracy = 0.709 | Test Accuracy = 0.701\n",
      "d = 2   | Training Accuracy = 0.770 | Test Accuracy = 0.839\n",
      "d = 3   | Training Accuracy = 0.903 | Test Accuracy = 0.917\n",
      "d = 4   | Training Accuracy = 0.923 | Test Accuracy = 0.931\n",
      "d = 5   | Training Accuracy = 0.933 | Test Accuracy = 0.917\n",
      "i-th digit: 1, j-th digit: 5\n",
      "d = 0   | Training Accuracy = 0.522 | Test Accuracy = 0.390\n",
      "d = 1   | Training Accuracy = 0.533 | Test Accuracy = 0.671\n",
      "d = 2   | Training Accuracy = 0.741 | Test Accuracy = 0.859\n",
      "d = 3   | Training Accuracy = 0.578 | Test Accuracy = 0.640\n",
      "d = 4   | Training Accuracy = 0.915 | Test Accuracy = 0.895\n",
      "d = 5   | Training Accuracy = 0.859 | Test Accuracy = 0.802\n",
      "i-th digit: 1, j-th digit: 6\n",
      "d = 0   | Training Accuracy = 0.527 | Test Accuracy = 0.465\n",
      "d = 1   | Training Accuracy = 0.527 | Test Accuracy = 0.465\n",
      "d = 2   | Training Accuracy = 0.8   | Test Accuracy = 0.834\n",
      "d = 3   | Training Accuracy = 0.833 | Test Accuracy = 0.792\n",
      "d = 4   | Training Accuracy = 0.872 | Test Accuracy = 0.926\n",
      "d = 5   | Training Accuracy = 0.9   | Test Accuracy = 0.944\n",
      "i-th digit: 1, j-th digit: 7\n",
      "d = 0   | Training Accuracy = 0.577 | Test Accuracy = 0.462\n",
      "d = 1   | Training Accuracy = 0.681 | Test Accuracy = 0.675\n",
      "d = 2   | Training Accuracy = 0.820 | Test Accuracy = 0.851\n",
      "d = 3   | Training Accuracy = 0.791 | Test Accuracy = 0.782\n",
      "d = 4   | Training Accuracy = 0.900 | Test Accuracy = 0.861\n",
      "d = 5   | Training Accuracy = 0.985 | Test Accuracy = 0.962\n",
      "i-th digit: 1, j-th digit: 8\n",
      "d = 0   | Training Accuracy = 0.638 | Test Accuracy = 0.641\n",
      "d = 1   | Training Accuracy = 0.519 | Test Accuracy = 0.493\n",
      "d = 2   | Training Accuracy = 0.700 | Test Accuracy = 0.764\n",
      "d = 3   | Training Accuracy = 0.717 | Test Accuracy = 0.689\n",
      "d = 4   | Training Accuracy = 0.757 | Test Accuracy = 0.764\n",
      "d = 5   | Training Accuracy = 0.802 | Test Accuracy = 0.820\n",
      "i-th digit: 1, j-th digit: 9\n",
      "d = 0   | Training Accuracy = 0.532 | Test Accuracy = 0.470\n",
      "d = 1   | Training Accuracy = 0.692 | Test Accuracy = 0.607\n",
      "d = 2   | Training Accuracy = 0.620 | Test Accuracy = 0.684\n",
      "d = 3   | Training Accuracy = 0.884 | Test Accuracy = 0.931\n",
      "d = 4   | Training Accuracy = 0.736 | Test Accuracy = 0.748\n",
      "d = 5   | Training Accuracy = 0.928 | Test Accuracy = 0.972\n",
      "i-th digit: 2, j-th digit: 3\n",
      "d = 0   | Training Accuracy = 0.546 | Test Accuracy = 0.472\n",
      "d = 1   | Training Accuracy = 0.829 | Test Accuracy = 0.855\n",
      "d = 2   | Training Accuracy = 0.873 | Test Accuracy = 0.861\n",
      "d = 3   | Training Accuracy = 0.795 | Test Accuracy = 0.872\n",
      "d = 4   | Training Accuracy = 0.843 | Test Accuracy = 0.861\n",
      "d = 5   | Training Accuracy = 0.863 | Test Accuracy = 0.883\n",
      "i-th digit: 2, j-th digit: 4\n",
      "d = 0   | Training Accuracy = 0.531 | Test Accuracy = 0.582\n",
      "d = 1   | Training Accuracy = 0.578 | Test Accuracy = 0.634\n",
      "d = 2   | Training Accuracy = 0.665 | Test Accuracy = 0.611\n",
      "d = 3   | Training Accuracy = 0.755 | Test Accuracy = 0.777\n",
      "d = 4   | Training Accuracy = 0.751 | Test Accuracy = 0.765\n",
      "d = 5   | Training Accuracy = 0.818 | Test Accuracy = 0.845\n",
      "i-th digit: 2, j-th digit: 5\n",
      "d = 0   | Training Accuracy = 0.581 | Test Accuracy = 0.530\n",
      "d = 1   | Training Accuracy = 0.685 | Test Accuracy = 0.697\n",
      "d = 2   | Training Accuracy = 0.691 | Test Accuracy = 0.744\n",
      "d = 3   | Training Accuracy = 0.790 | Test Accuracy = 0.852\n",
      "d = 4   | Training Accuracy = 0.790 | Test Accuracy = 0.785\n",
      "d = 5   | Training Accuracy = 0.842 | Test Accuracy = 0.791\n",
      "i-th digit: 2, j-th digit: 6\n",
      "d = 0   | Training Accuracy = 0.554 | Test Accuracy = 0.477\n",
      "d = 1   | Training Accuracy = 0.611 | Test Accuracy = 0.649\n",
      "d = 2   | Training Accuracy = 0.761 | Test Accuracy = 0.724\n",
      "d = 3   | Training Accuracy = 0.803 | Test Accuracy = 0.770\n",
      "d = 4   | Training Accuracy = 0.761 | Test Accuracy = 0.781\n",
      "d = 5   | Training Accuracy = 0.761 | Test Accuracy = 0.764\n",
      "i-th digit: 2, j-th digit: 7\n",
      "d = 0   | Training Accuracy = 0.658 | Test Accuracy = 0.676\n",
      "d = 1   | Training Accuracy = 0.728 | Test Accuracy = 0.699\n"
     ]
    },
    {
     "name": "stdout",
     "output_type": "stream",
     "text": [
      "d = 2   | Training Accuracy = 0.700 | Test Accuracy = 0.670\n",
      "d = 3   | Training Accuracy = 0.710 | Test Accuracy = 0.676\n",
      "d = 4   | Training Accuracy = 0.906 | Test Accuracy = 0.820\n",
      "d = 5   | Training Accuracy = 0.845 | Test Accuracy = 0.751\n",
      "i-th digit: 2, j-th digit: 8\n",
      "d = 0   | Training Accuracy = 0.615 | Test Accuracy = 0.559\n",
      "d = 1   | Training Accuracy = 0.694 | Test Accuracy = 0.672\n",
      "d = 2   | Training Accuracy = 0.763 | Test Accuracy = 0.698\n",
      "d = 3   | Training Accuracy = 0.721 | Test Accuracy = 0.768\n",
      "d = 4   | Training Accuracy = 0.736 | Test Accuracy = 0.720\n",
      "d = 5   | Training Accuracy = 0.757 | Test Accuracy = 0.672\n",
      "i-th digit: 2, j-th digit: 9\n",
      "d = 0   | Training Accuracy = 0.702 | Test Accuracy = 0.630\n",
      "d = 1   | Training Accuracy = 0.738 | Test Accuracy = 0.767\n",
      "d = 2   | Training Accuracy = 0.789 | Test Accuracy = 0.710\n",
      "d = 3   | Training Accuracy = 0.687 | Test Accuracy = 0.630\n",
      "d = 4   | Training Accuracy = 0.825 | Test Accuracy = 0.784\n",
      "d = 5   | Training Accuracy = 0.851 | Test Accuracy = 0.880\n",
      "i-th digit: 3, j-th digit: 4\n",
      "d = 0   | Training Accuracy = 0.674 | Test Accuracy = 0.669\n",
      "d = 1   | Training Accuracy = 0.545 | Test Accuracy = 0.464\n",
      "d = 2   | Training Accuracy = 0.733 | Test Accuracy = 0.751\n",
      "d = 3   | Training Accuracy = 0.844 | Test Accuracy = 0.803\n",
      "d = 4   | Training Accuracy = 0.788 | Test Accuracy = 0.746\n",
      "d = 5   | Training Accuracy = 0.885 | Test Accuracy = 0.875\n",
      "i-th digit: 3, j-th digit: 5\n",
      "d = 0   | Training Accuracy = 0.535 | Test Accuracy = 0.584\n",
      "d = 1   | Training Accuracy = 0.585 | Test Accuracy = 0.562\n",
      "d = 2   | Training Accuracy = 0.625 | Test Accuracy = 0.666\n",
      "d = 3   | Training Accuracy = 0.765 | Test Accuracy = 0.759\n",
      "d = 4   | Training Accuracy = 0.695 | Test Accuracy = 0.765\n",
      "d = 5   | Training Accuracy = 0.79  | Test Accuracy = 0.781\n",
      "i-th digit: 3, j-th digit: 6\n",
      "d = 0   | Training Accuracy = 0.782 | Test Accuracy = 0.793\n",
      "d = 1   | Training Accuracy = 0.737 | Test Accuracy = 0.639\n",
      "d = 2   | Training Accuracy = 0.782 | Test Accuracy = 0.759\n",
      "d = 3   | Training Accuracy = 0.806 | Test Accuracy = 0.75\n",
      "d = 4   | Training Accuracy = 0.816 | Test Accuracy = 0.788\n",
      "d = 5   | Training Accuracy = 0.856 | Test Accuracy = 0.798\n",
      "i-th digit: 3, j-th digit: 7\n",
      "d = 0   | Training Accuracy = 0.672 | Test Accuracy = 0.584\n",
      "d = 1   | Training Accuracy = 0.793 | Test Accuracy = 0.797\n",
      "d = 2   | Training Accuracy = 0.708 | Test Accuracy = 0.632\n",
      "d = 3   | Training Accuracy = 0.811 | Test Accuracy = 0.821\n",
      "d = 4   | Training Accuracy = 0.771 | Test Accuracy = 0.681\n",
      "d = 5   | Training Accuracy = 0.914 | Test Accuracy = 0.893\n",
      "i-th digit: 3, j-th digit: 8\n",
      "d = 0   | Training Accuracy = 0.537 | Test Accuracy = 0.486\n",
      "d = 1   | Training Accuracy = 0.783 | Test Accuracy = 0.704\n",
      "d = 2   | Training Accuracy = 0.693 | Test Accuracy = 0.681\n",
      "d = 3   | Training Accuracy = 0.809 | Test Accuracy = 0.731\n",
      "d = 4   | Training Accuracy = 0.778 | Test Accuracy = 0.822\n",
      "d = 5   | Training Accuracy = 0.879 | Test Accuracy = 0.831\n",
      "i-th digit: 3, j-th digit: 9\n",
      "d = 0   | Training Accuracy = 0.524 | Test Accuracy = 0.509\n",
      "d = 1   | Training Accuracy = 0.539 | Test Accuracy = 0.538\n",
      "d = 2   | Training Accuracy = 0.651 | Test Accuracy = 0.614\n",
      "d = 3   | Training Accuracy = 0.715 | Test Accuracy = 0.7\n",
      "d = 4   | Training Accuracy = 0.808 | Test Accuracy = 0.804\n",
      "d = 5   | Training Accuracy = 0.808 | Test Accuracy = 0.795\n",
      "i-th digit: 4, j-th digit: 5\n",
      "d = 0   | Training Accuracy = 0.544 | Test Accuracy = 0.573\n",
      "d = 1   | Training Accuracy = 0.573 | Test Accuracy = 0.578\n",
      "d = 2   | Training Accuracy = 0.710 | Test Accuracy = 0.679\n",
      "d = 3   | Training Accuracy = 0.808 | Test Accuracy = 0.820\n",
      "d = 4   | Training Accuracy = 0.740 | Test Accuracy = 0.747\n",
      "d = 5   | Training Accuracy = 0.754 | Test Accuracy = 0.735\n",
      "i-th digit: 4, j-th digit: 6\n",
      "d = 0   | Training Accuracy = 0.582 | Test Accuracy = 0.566\n",
      "d = 1   | Training Accuracy = 0.728 | Test Accuracy = 0.738\n",
      "d = 2   | Training Accuracy = 0.883 | Test Accuracy = 0.871\n",
      "d = 3   | Training Accuracy = 0.907 | Test Accuracy = 0.891\n",
      "d = 4   | Training Accuracy = 0.825 | Test Accuracy = 0.798\n",
      "d = 5   | Training Accuracy = 0.815 | Test Accuracy = 0.812\n",
      "i-th digit: 4, j-th digit: 7\n",
      "d = 0   | Training Accuracy = 0.511 | Test Accuracy = 0.495\n",
      "d = 1   | Training Accuracy = 0.656 | Test Accuracy = 0.683\n",
      "d = 2   | Training Accuracy = 0.850 | Test Accuracy = 0.831\n",
      "d = 3   | Training Accuracy = 0.894 | Test Accuracy = 0.821\n",
      "d = 4   | Training Accuracy = 0.775 | Test Accuracy = 0.752\n",
      "d = 5   | Training Accuracy = 0.859 | Test Accuracy = 0.831\n",
      "i-th digit: 4, j-th digit: 8\n",
      "d = 0   | Training Accuracy = 0.753 | Test Accuracy = 0.706\n",
      "d = 1   | Training Accuracy = 0.556 | Test Accuracy = 0.474\n",
      "d = 2   | Training Accuracy = 0.546 | Test Accuracy = 0.474\n",
      "d = 3   | Training Accuracy = 0.738 | Test Accuracy = 0.646\n",
      "d = 4   | Training Accuracy = 0.798 | Test Accuracy = 0.748\n",
      "d = 5   | Training Accuracy = 0.837 | Test Accuracy = 0.832\n",
      "i-th digit: 4, j-th digit: 9\n",
      "d = 0   | Training Accuracy = 0.533 | Test Accuracy = 0.497\n",
      "d = 1   | Training Accuracy = 0.567 | Test Accuracy = 0.531\n",
      "d = 2   | Training Accuracy = 0.533 | Test Accuracy = 0.497\n",
      "d = 3   | Training Accuracy = 0.706 | Test Accuracy = 0.712\n",
      "d = 4   | Training Accuracy = 0.644 | Test Accuracy = 0.487\n",
      "d = 5   | Training Accuracy = 0.682 | Test Accuracy = 0.604\n",
      "i-th digit: 5, j-th digit: 6\n",
      "d = 0   | Training Accuracy = 0.510 | Test Accuracy = 0.531\n",
      "d = 1   | Training Accuracy = 0.851 | Test Accuracy = 0.813\n",
      "d = 2   | Training Accuracy = 0.728 | Test Accuracy = 0.768\n",
      "d = 3   | Training Accuracy = 0.760 | Test Accuracy = 0.649\n",
      "d = 4   | Training Accuracy = 0.813 | Test Accuracy = 0.790\n",
      "d = 5   | Training Accuracy = 0.898 | Test Accuracy = 0.915\n",
      "i-th digit: 5, j-th digit: 7\n",
      "d = 0   | Training Accuracy = 0.722 | Test Accuracy = 0.755\n",
      "d = 1   | Training Accuracy = 0.789 | Test Accuracy = 0.778\n",
      "d = 2   | Training Accuracy = 0.631 | Test Accuracy = 0.636\n",
      "d = 3   | Training Accuracy = 0.789 | Test Accuracy = 0.75\n",
      "d = 4   | Training Accuracy = 0.799 | Test Accuracy = 0.835\n",
      "d = 5   | Training Accuracy = 0.933 | Test Accuracy = 0.920\n",
      "i-th digit: 5, j-th digit: 8\n",
      "d = 0   | Training Accuracy = 0.502 | Test Accuracy = 0.402\n",
      "d = 1   | Training Accuracy = 0.794 | Test Accuracy = 0.756\n",
      "d = 2   | Training Accuracy = 0.740 | Test Accuracy = 0.698\n",
      "d = 3   | Training Accuracy = 0.729 | Test Accuracy = 0.804\n",
      "d = 4   | Training Accuracy = 0.789 | Test Accuracy = 0.767\n",
      "d = 5   | Training Accuracy = 0.805 | Test Accuracy = 0.820\n",
      "i-th digit: 5, j-th digit: 9\n",
      "d = 0   | Training Accuracy = 0.515 | Test Accuracy = 0.575\n",
      "d = 1   | Training Accuracy = 0.636 | Test Accuracy = 0.603\n",
      "d = 2   | Training Accuracy = 0.642 | Test Accuracy = 0.564\n",
      "d = 3   | Training Accuracy = 0.842 | Test Accuracy = 0.865\n",
      "d = 4   | Training Accuracy = 0.752 | Test Accuracy = 0.720\n",
      "d = 5   | Training Accuracy = 0.789 | Test Accuracy = 0.715\n",
      "i-th digit: 6, j-th digit: 7\n",
      "d = 0   | Training Accuracy = 0.791 | Test Accuracy = 0.716\n",
      "d = 1   | Training Accuracy = 0.767 | Test Accuracy = 0.766\n",
      "d = 2   | Training Accuracy = 0.857 | Test Accuracy = 0.850\n",
      "d = 3   | Training Accuracy = 0.758 | Test Accuracy = 0.731\n",
      "d = 4   | Training Accuracy = 0.881 | Test Accuracy = 0.900\n",
      "d = 5   | Training Accuracy = 0.886 | Test Accuracy = 0.815\n",
      "i-th digit: 6, j-th digit: 8\n",
      "d = 0   | Training Accuracy = 0.508 | Test Accuracy = 0.471\n",
      "d = 1   | Training Accuracy = 0.673 | Test Accuracy = 0.626\n",
      "d = 2   | Training Accuracy = 0.657 | Test Accuracy = 0.719\n",
      "d = 3   | Training Accuracy = 0.593 | Test Accuracy = 0.584\n",
      "d = 4   | Training Accuracy = 0.647 | Test Accuracy = 0.509\n",
      "d = 5   | Training Accuracy = 0.866 | Test Accuracy = 0.836\n",
      "i-th digit: 6, j-th digit: 9\n",
      "d = 0   | Training Accuracy = 0.505 | Test Accuracy = 0.504\n",
      "d = 1   | Training Accuracy = 0.531 | Test Accuracy = 0.553\n",
      "d = 2   | Training Accuracy = 0.807 | Test Accuracy = 0.75\n",
      "d = 3   | Training Accuracy = 0.770 | Test Accuracy = 0.779\n",
      "d = 4   | Training Accuracy = 0.817 | Test Accuracy = 0.715\n",
      "d = 5   | Training Accuracy = 0.906 | Test Accuracy = 0.857\n",
      "i-th digit: 7, j-th digit: 8\n",
      "d = 0   | Training Accuracy = 0.557 | Test Accuracy = 0.469\n",
      "d = 1   | Training Accuracy = 0.562 | Test Accuracy = 0.474\n",
      "d = 2   | Training Accuracy = 0.706 | Test Accuracy = 0.685\n"
     ]
    },
    {
     "name": "stdout",
     "output_type": "stream",
     "text": [
      "d = 3   | Training Accuracy = 0.822 | Test Accuracy = 0.741\n",
      "d = 4   | Training Accuracy = 0.855 | Test Accuracy = 0.812\n",
      "d = 5   | Training Accuracy = 0.677 | Test Accuracy = 0.610\n",
      "i-th digit: 7, j-th digit: 9\n",
      "d = 0   | Training Accuracy = 0.572 | Test Accuracy = 0.527\n",
      "d = 1   | Training Accuracy = 0.708 | Test Accuracy = 0.650\n",
      "d = 2   | Training Accuracy = 0.760 | Test Accuracy = 0.748\n",
      "d = 3   | Training Accuracy = 0.760 | Test Accuracy = 0.733\n",
      "d = 4   | Training Accuracy = 0.732 | Test Accuracy = 0.719\n",
      "d = 5   | Training Accuracy = 0.854 | Test Accuracy = 0.857\n",
      "i-th digit: 8, j-th digit: 9\n",
      "d = 0   | Training Accuracy = 0.513 | Test Accuracy = 0.476\n",
      "d = 1   | Training Accuracy = 0.518 | Test Accuracy = 0.537\n",
      "d = 2   | Training Accuracy = 0.724 | Test Accuracy = 0.587\n",
      "d = 3   | Training Accuracy = 0.772 | Test Accuracy = 0.768\n",
      "d = 4   | Training Accuracy = 0.777 | Test Accuracy = 0.768\n",
      "d = 5   | Training Accuracy = 0.835 | Test Accuracy = 0.837\n"
     ]
    }
   ],
   "source": [
    "pairwise_matrix=np.identity(10)\n",
    "\n",
    "d_list=[]\n",
    "train_acc_list=[]\n",
    "test_acc_list=[]\n",
    "        \n",
    "for digit_i in range(pairwise_matrix.shape[0]):\n",
    "    for digit_j in range(pairwise_matrix.shape[1]):\n",
    "        if pairwise_matrix[digit_i, digit_j]==0:\n",
    "            new_train_set, new_test_set = create_pairwise_dataset(digit_i, digit_j, train_set, valid_set)\n",
    "            X_train, y_train = new_train_set[0], new_train_set[1]\n",
    "            X_test, y_test = new_test_set[0], new_test_set[1]\n",
    "            \n",
    "            #uptade conditions\n",
    "            pairwise_matrix[digit_i, digit_j]=1\n",
    "            pairwise_matrix[digit_j, digit_i]=1\n",
    "\n",
    "            #calculate for each dataset and each k, training and test accuracy\n",
    "            print('i-th digit: {a}, j-th digit: {b}'.format(a=digit_i, b=digit_j))\n",
    "            for d in [0,1,2,3,4,5]:\n",
    "                \n",
    "                #create layers\n",
    "                #layers = [784, 1024, 1024, 1024, 1024, 1024, 1] \n",
    "                layers = [784] #init\n",
    "                layers+=(d*[100]) #should be 1024\n",
    "                layers.append(1)\n",
    "                \n",
    "                #train model\n",
    "                model = Memorization(layers, k=2)\n",
    "                model.fit(X_train, y_train)\n",
    "                \n",
    "                #predict and calculate accuracy\n",
    "                train_acc = model.accuracy(X_train, y_train)\n",
    "                test_acc = model.accuracy(X_test, y_test)\n",
    "                \n",
    "                #store data\n",
    "                d_list.append(d)\n",
    "                train_acc_list.append(train_acc)\n",
    "                test_acc_list.append(test_acc)\n",
    "                \n",
    "                print(\"d = \" + (str(d) + \"  \")[:3]\n",
    "          + \" | Training Accuracy = \" + (str(train_acc) + \"   \")[:5] \n",
    "          + \" | Test Accuracy = \" + str(test_acc)[:5])"
   ]
  },
  {
   "cell_type": "code",
   "execution_count": 243,
   "metadata": {
    "collapsed": true
   },
   "outputs": [],
   "source": [
    "diff_acc_list = np.abs(np.array(test_acc_list)-np.array(train_acc_list))"
   ]
  },
  {
   "cell_type": "code",
   "execution_count": 251,
   "metadata": {},
   "outputs": [
    {
     "data": {
      "image/png": "[encoded data removed]",
      "text/plain": [
       "<Figure size 432x288 with 1 Axes>"
      ]
     },
     "metadata": {
      "needs_background": "light"
     },
     "output_type": "display_data"
    }
   ],
   "source": [
    "#display graph\n",
    "plt.plot(d_list, train_acc_list, 'b+', label='training')\n",
    "plt.plot(d_list, test_acc_list, 'r+', label='test')\n",
    "plt.plot(d_list, diff_acc_list, 'g+', label='difference')\n",
    "plt.title('The effect of depth (d) on networks with small lookup tables (k = 2) for Pairwise-MNIST')\n",
    "plt.legend()\n",
    "plt.xlabel('log2(d-1)')\n",
    "plt.ylabel('accuracy')\n",
    "plt.show()"
   ]
  },
  {
   "cell_type": "markdown",
   "metadata": {},
   "source": [
    "### Expérimentation n°7\n",
    "\n",
    "L'objectif de l'expérience est de reproduire le modèle de mémorisation sur le dataset CIFAR-10"
   ]
  },
  {
   "cell_type": "markdown",
   "metadata": {},
   "source": [
    "**DATA**"
   ]
  },
  {
   "cell_type": "code",
   "execution_count": 59,
   "metadata": {
    "collapsed": true
   },
   "outputs": [],
   "source": [
    "from keras.datasets import cifar10\n",
    "\n",
    "(X_train, y_train), (X_test, y_test) = cifar10.load_data()"
   ]
  },
  {
   "cell_type": "code",
   "execution_count": 60,
   "metadata": {
    "collapsed": true
   },
   "outputs": [],
   "source": [
    "X_train, y_train = X_train[:6000], y_train[:6000]\n",
    "X_test, y_test = X_test[:6000], y_test[:6000]"
   ]
  },
  {
   "cell_type": "code",
   "execution_count": 61,
   "metadata": {
    "collapsed": true
   },
   "outputs": [],
   "source": [
    "X_train = X_train/255\n",
    "X_test = X_test/255\n",
    "\n",
    "X_train = X_train.astype(int)\n",
    "X_test = X_test.astype(int)\n",
    "\n",
    "X_train = X_train.reshape(-1,32*32*3)\n",
    "X_test = X_test.reshape(-1,32*32*3)"
   ]
  },
  {
   "cell_type": "code",
   "execution_count": 62,
   "metadata": {
    "collapsed": true
   },
   "outputs": [],
   "source": [
    "# Fonction servant à binariser les valeurs de chaque pixels d'une image\n",
    "def binarise(img, s=0.5):\n",
    "    nbr_pixels = len(img)\n",
    "    L=np.zeros(nbr_pixels)\n",
    "    for i in range(nbr_pixels) :\n",
    "        if img[i]>s :\n",
    "            L[i]=1\n",
    "        else :\n",
    "            L[i]=0\n",
    "    return L"
   ]
  },
  {
   "cell_type": "code",
   "execution_count": 63,
   "metadata": {
    "collapsed": true
   },
   "outputs": [],
   "source": [
    "# Binarisation du dataset\n",
    "for i in range (X_train.shape[0]):\n",
    "    X_train[i]=binarise(X_train[i])\n",
    "\n",
    "for i in range (X_test.shape[0]):\n",
    "    X_test[i]=binarise(X_test[i])"
   ]
  },
  {
   "cell_type": "code",
   "execution_count": 17,
   "metadata": {
    "collapsed": true
   },
   "outputs": [],
   "source": [
    "y_train = (y_train >= 5).astype(int)\n",
    "y_test = (y_test >= 5).astype(int)"
   ]
  },
  {
   "cell_type": "code",
   "execution_count": 64,
   "metadata": {
    "collapsed": true
   },
   "outputs": [],
   "source": [
    "y_train = y_train.reshape(y_train.shape[0],)\n",
    "y_test = y_test.reshape(y_test.shape[0],)"
   ]
  },
  {
   "cell_type": "markdown",
   "metadata": {},
   "source": [
    " "
   ]
  },
  {
   "cell_type": "code",
   "execution_count": 21,
   "metadata": {
    "collapsed": true
   },
   "outputs": [],
   "source": [
    "list_results = []"
   ]
  },
  {
   "cell_type": "code",
   "execution_count": 22,
   "metadata": {},
   "outputs": [
    {
     "name": "stdout",
     "output_type": "stream",
     "text": [
      "Training...\n",
      "Epoch 1/3\n",
      "2000/2000 [==============================] - 0s 242us/step - loss: 0.7006 - acc: 0.5445\n",
      "Epoch 2/3\n",
      "2000/2000 [==============================] - 0s 137us/step - loss: 0.6475 - acc: 0.6265\n",
      "Epoch 3/3\n",
      "2000/2000 [==============================] - 0s 137us/step - loss: 0.5975 - acc: 0.6900\n",
      "Evaluating...\n",
      "2000/2000 [==============================] - 0s 85us/step\n"
     ]
    }
   ],
   "source": [
    "# Test du modèle : CONV NET\n",
    "\n",
    "X_train = X_train.reshape(-1, 32, 32, 3)\n",
    "X_test = X_test.reshape(-1, 32, 32, 3)\n",
    "\n",
    "#should have images in form (32, 32, 3)\n",
    "from keras import models\n",
    "from keras import layers\n",
    "from keras import optimizers\n",
    "\n",
    "cnn = models.Sequential()\n",
    "cnn.add(layers.Conv2D(32, (3,3), padding='same', activation='relu', input_shape=(32,32,3)))\n",
    "cnn.add(layers.MaxPooling2D((2,2)))\n",
    "cnn.add(layers.Conv2D(32, (3,3), padding='same', activation='relu'))\n",
    "cnn.add(layers.Flatten())\n",
    "cnn.add(layers.Dense(16, activation = 'relu'))\n",
    "cnn.add(layers.Dense(1, activation='sigmoid'))\n",
    "rms=optimizers.RMSprop()\n",
    "cnn.compile(loss='binary_crossentropy',optimizer=rms,metrics=['acc'])\n",
    "\n",
    "print('Training...')\n",
    "history = cnn.fit(X_train, y_train, epochs=3, batch_size=32)\n",
    "\n",
    "print('Evaluating...')\n",
    "cnn_train_acc = history.history['acc']\n",
    "_, cnn_test_acc = cnn.evaluate(X_test, y_test)\n",
    "list_results.append((\"CONV NET\", cnn_train_acc[-1], cnn_test_acc))\n",
    "\n",
    "X_train = X_train.reshape(-1,32*32*3)\n",
    "X_test = X_test.reshape(-1,32*32*3)"
   ]
  },
  {
   "cell_type": "code",
   "execution_count": 23,
   "metadata": {
    "collapsed": true
   },
   "outputs": [],
   "source": [
    "# Test du modèle : Random Forest (300 Trees)\n",
    "from sklearn.ensemble import RandomForestClassifier\n",
    "\n",
    "rf = RandomForestClassifier(n_estimators = 300)\n",
    "rf.fit(X_train, y_train)\n",
    "rf_train_accuracy = accuracy_score(rf.predict(X_train), y_train)\n",
    "rf_test_accuracy = accuracy_score(rf.predict(X_test), y_test)\n",
    "\n",
    "list_results.append((\"Random Forest (300 Trees)\", rf_train_accuracy, rf_test_accuracy))"
   ]
  },
  {
   "cell_type": "code",
   "execution_count": 24,
   "metadata": {
    "collapsed": true
   },
   "outputs": [],
   "source": [
    "# Test du modèle : 5-Nearest Neighbors\n",
    "from sklearn.neighbors import KNeighborsClassifier\n",
    "\n",
    "knn_5 = KNeighborsClassifier(n_neighbors = 5)\n",
    "knn_5.fit(X_train, y_train)\n",
    "knn_5_train_accuracy = accuracy_score(knn_5.predict(X_train), y_train)\n",
    "knn_5_test_accuracy = accuracy_score(knn_5.predict(X_test), y_test)\n",
    "\n",
    "list_results.append((\"5-Nearest Neighbors\", knn_5_train_accuracy, knn_5_test_accuracy))"
   ]
  },
  {
   "cell_type": "code",
   "execution_count": 25,
   "metadata": {
    "collapsed": true
   },
   "outputs": [],
   "source": [
    "# Test du modèle : 1-Nearest Neighbors\n",
    "knn_1 = KNeighborsClassifier(n_neighbors = 1)\n",
    "knn_1.fit(X_train, y_train)\n",
    "knn_1_train_accuracy = accuracy_score(knn_1.predict(X_train), y_train)\n",
    "knn_1_test_accuracy = accuracy_score(knn_1.predict(X_test), y_test)\n",
    "\n",
    "list_results.append((\"1-Nearest Neighbors\", knn_1_train_accuracy, knn_1_test_accuracy))"
   ]
  },
  {
   "cell_type": "code",
   "execution_count": 33,
   "metadata": {
    "collapsed": true
   },
   "outputs": [],
   "source": [
    "# Test du modèle : Memorization\n",
    "#5 hidden layers of 1024 luts\n",
    "#k=10\n",
    "layers=[784, 100, 100, 100, 100, 100, 1]\n",
    "memo = Memorization(layers, k=10)\n",
    "memo.fit(X_train, y_train)\n",
    "memo_train_accuracy = accuracy_score(memo.predict(X_train), y_train)\n",
    "memo_test_accuracy = accuracy_score(memo.predict(X_test), y_test)\n",
    "\n",
    "list_results.append((\"Memorization\", memo_train_accuracy, memo_test_accuracy))"
   ]
  },
  {
   "cell_type": "code",
   "execution_count": 44,
   "metadata": {
    "collapsed": true
   },
   "outputs": [],
   "source": [
    "# Test du modèle : Logistic Regression\n",
    "from sklearn.linear_model import LogisticRegression\n",
    "\n",
    "lr = LogisticRegression(solver='liblinear')\n",
    "lr.fit(X_train, y_train)\n",
    "lr_train_accuracy = accuracy_score(lr.predict(X_train), y_train)\n",
    "lr_test_accuracy = accuracy_score(lr.predict(X_test), y_test)\n",
    "\n",
    "list_results.append((\"Logistic Regression\", lr_train_accuracy, lr_test_accuracy))"
   ]
  },
  {
   "cell_type": "code",
   "execution_count": 35,
   "metadata": {
    "collapsed": true
   },
   "outputs": [],
   "source": [
    "# Test du modèle : Naïve Bayes\n",
    "from sklearn.naive_bayes import GaussianNB\n",
    "\n",
    "nb = GaussianNB()\n",
    "nb.fit(X_train, y_train)\n",
    "nb_train_accuracy = accuracy_score(nb.predict(X_train), y_train)\n",
    "nb_test_accuracy = accuracy_score(nb.predict(X_test), y_test)\n",
    "\n",
    "list_results.append((\"Naïve Bayes\", nb_train_accuracy, nb_test_accuracy))"
   ]
  },
  {
   "cell_type": "code",
   "execution_count": 36,
   "metadata": {
    "collapsed": true
   },
   "outputs": [],
   "source": [
    "# Test du modèle : Random Guess\n",
    "random_guess = lambda x : np.random.randint(2)\n",
    "rg_train_accuracy = accuracy_score([random_guess(x) for x in X_train], y_train)\n",
    "rg_test_accuracy = accuracy_score([random_guess(x) for x in X_test], y_test)\n",
    "\n",
    "\n",
    "list_results.append((\"Random Guess\", rg_train_accuracy, rg_test_accuracy))"
   ]
  },
  {
   "cell_type": "code",
   "execution_count": 42,
   "metadata": {},
   "outputs": [
    {
     "name": "stdout",
     "output_type": "stream",
     "text": [
      "CONV NET                  | Training Accuracy = 0.69   | Test Accuracy = 0.5935\n",
      "Random Forest (300 Trees) | Training Accuracy = 1.0    | Test Accuracy = 0.603\n",
      "5-Nearest Neighbors       | Training Accuracy = 0.702  | Test Accuracy = 0.5745\n",
      "1-Nearest Neighbors       | Training Accuracy = 1.0    | Test Accuracy = 0.575\n",
      "Memorization              | Training Accuracy = 0.943  | Test Accuracy = 0.5255\n",
      "Logistic Regression       | Training Accuracy = 1.0    | Test Accuracy = 0.5345\n",
      "Naïve Bayes               | Training Accuracy = 0.554  | Test Accuracy = 0.547\n",
      "Random Guess              | Training Accuracy = 0.5125 | Test Accuracy = 0.496\n"
     ]
    }
   ],
   "source": [
    "# Comparaison des modèles\n",
    "\n",
    "for name, train_acc, test_acc in list_results:\n",
    "    print((str(name) + \"                 \")[:25] \n",
    "          + \" | Training Accuracy = \" + (str(train_acc) + \"   \")[:6]\n",
    "          + \" | Test Accuracy = \" + str(test_acc))"
   ]
  },
  {
   "cell_type": "markdown",
   "metadata": {},
   "source": [
    "### Expérimentation n°8\n",
    "\n",
    "L'objectif de l'expérience est de garder la même architecture de réseau de l'expérience 7 et de l'appliquer à la tâche de séparation des catégories 1 à 1 (similaire à l'expérience 5)."
   ]
  },
  {
   "cell_type": "code",
   "execution_count": 65,
   "metadata": {
    "collapsed": true
   },
   "outputs": [],
   "source": [
    "train_set = [X_train, y_train]\n",
    "test_set = [X_test, y_test]"
   ]
  },
  {
   "cell_type": "code",
   "execution_count": 66,
   "metadata": {
    "scrolled": true
   },
   "outputs": [
    {
     "name": "stdout",
     "output_type": "stream",
     "text": [
      "class i: 0, class j: 1\n",
      "k = 10  | Training Accuracy = 0.647 | Test Accuracy = 0.532\n",
      "class i: 0, class j: 2\n",
      "k = 10  | Training Accuracy = 0.589 | Test Accuracy = 0.524\n",
      "class i: 0, class j: 3\n",
      "k = 10  | Training Accuracy = 0.589 | Test Accuracy = 0.489\n",
      "class i: 0, class j: 4\n",
      "k = 10  | Training Accuracy = 0.584 | Test Accuracy = 0.535\n",
      "class i: 0, class j: 5\n",
      "k = 10  | Training Accuracy = 0.572 | Test Accuracy = 0.5\n",
      "class i: 0, class j: 6\n",
      "k = 10  | Training Accuracy = 0.587 | Test Accuracy = 0.531\n",
      "class i: 0, class j: 7\n",
      "k = 10  | Training Accuracy = 0.640 | Test Accuracy = 0.519\n",
      "class i: 0, class j: 8\n",
      "k = 10  | Training Accuracy = 0.585 | Test Accuracy = 0.504\n",
      "class i: 0, class j: 9\n",
      "k = 10  | Training Accuracy = 0.749 | Test Accuracy = 0.573\n",
      "class i: 1, class j: 2\n",
      "k = 10  | Training Accuracy = 0.652 | Test Accuracy = 0.532\n",
      "class i: 1, class j: 3\n",
      "k = 10  | Training Accuracy = 0.633 | Test Accuracy = 0.525\n",
      "class i: 1, class j: 4\n",
      "k = 10  | Training Accuracy = 0.652 | Test Accuracy = 0.561\n",
      "class i: 1, class j: 5\n",
      "k = 10  | Training Accuracy = 0.637 | Test Accuracy = 0.513\n",
      "class i: 1, class j: 6\n",
      "k = 10  | Training Accuracy = 0.651 | Test Accuracy = 0.551\n",
      "class i: 1, class j: 7\n",
      "k = 10  | Training Accuracy = 0.628 | Test Accuracy = 0.516\n",
      "class i: 1, class j: 8\n",
      "k = 10  | Training Accuracy = 0.645 | Test Accuracy = 0.528\n",
      "class i: 1, class j: 9\n",
      "k = 10  | Training Accuracy = 0.733 | Test Accuracy = 0.557\n",
      "class i: 2, class j: 3\n",
      "k = 10  | Training Accuracy = 0.594 | Test Accuracy = 0.503\n",
      "class i: 2, class j: 4\n",
      "k = 10  | Training Accuracy = 0.554 | Test Accuracy = 0.516\n",
      "class i: 2, class j: 5\n",
      "k = 10  | Training Accuracy = 0.585 | Test Accuracy = 0.517\n",
      "class i: 2, class j: 6\n",
      "k = 10  | Training Accuracy = 0.559 | Test Accuracy = 0.513\n",
      "class i: 2, class j: 7\n",
      "k = 10  | Training Accuracy = 0.644 | Test Accuracy = 0.536\n",
      "class i: 2, class j: 8\n",
      "k = 10  | Training Accuracy = 0.582 | Test Accuracy = 0.515\n",
      "class i: 2, class j: 9\n",
      "k = 10  | Training Accuracy = 0.753 | Test Accuracy = 0.568\n",
      "class i: 3, class j: 4\n",
      "k = 10  | Training Accuracy = 0.591 | Test Accuracy = 0.531\n",
      "class i: 3, class j: 5\n",
      "k = 10  | Training Accuracy = 0.582 | Test Accuracy = 0.495\n",
      "class i: 3, class j: 6\n",
      "k = 10  | Training Accuracy = 0.597 | Test Accuracy = 0.509\n",
      "class i: 3, class j: 7\n",
      "k = 10  | Training Accuracy = 0.627 | Test Accuracy = 0.530\n",
      "class i: 3, class j: 8\n",
      "k = 10  | Training Accuracy = 0.594 | Test Accuracy = 0.499\n",
      "class i: 3, class j: 9\n",
      "k = 10  | Training Accuracy = 0.746 | Test Accuracy = 0.573\n",
      "class i: 4, class j: 5\n",
      "k = 10  | Training Accuracy = 0.583 | Test Accuracy = 0.543\n",
      "class i: 4, class j: 6\n",
      "k = 10  | Training Accuracy = 0.547 | Test Accuracy = 0.484\n",
      "class i: 4, class j: 7\n",
      "k = 10  | Training Accuracy = 0.639 | Test Accuracy = 0.555\n",
      "class i: 4, class j: 8\n",
      "k = 10  | Training Accuracy = 0.575 | Test Accuracy = 0.543\n",
      "class i: 4, class j: 9\n",
      "k = 10  | Training Accuracy = 0.753 | Test Accuracy = 0.584\n",
      "class i: 5, class j: 6\n",
      "k = 10  | Training Accuracy = 0.585 | Test Accuracy = 0.537\n",
      "class i: 5, class j: 7\n",
      "k = 10  | Training Accuracy = 0.633 | Test Accuracy = 0.510\n",
      "class i: 5, class j: 8\n",
      "k = 10  | Training Accuracy = 0.583 | Test Accuracy = 0.498\n",
      "class i: 5, class j: 9\n",
      "k = 10  | Training Accuracy = 0.744 | Test Accuracy = 0.575\n",
      "class i: 6, class j: 7\n",
      "k = 10  | Training Accuracy = 0.644 | Test Accuracy = 0.553\n",
      "class i: 6, class j: 8\n",
      "k = 10  | Training Accuracy = 0.580 | Test Accuracy = 0.519\n",
      "class i: 6, class j: 9\n",
      "k = 10  | Training Accuracy = 0.747 | Test Accuracy = 0.594\n",
      "class i: 7, class j: 8\n",
      "k = 10  | Training Accuracy = 0.638 | Test Accuracy = 0.512\n",
      "class i: 7, class j: 9\n",
      "k = 10  | Training Accuracy = 0.742 | Test Accuracy = 0.534\n",
      "class i: 8, class j: 9\n",
      "k = 10  | Training Accuracy = 0.748 | Test Accuracy = 0.573\n"
     ]
    }
   ],
   "source": [
    "pairwise_matrix=np.identity(10)\n",
    "\n",
    "k_list=[]\n",
    "train_acc_list=[]\n",
    "test_acc_list=[]\n",
    "        \n",
    "for class_i in range(pairwise_matrix.shape[0]):\n",
    "    for class_j in range(pairwise_matrix.shape[1]):\n",
    "        if pairwise_matrix[class_i, class_j]==0:\n",
    "            new_train_set, new_test_set = create_pairwise_dataset(class_i, class_j, train_set, test_set)\n",
    "            X_train, y_train = new_train_set[0], new_train_set[1]\n",
    "            X_test, y_test = new_test_set[0], new_test_set[1]\n",
    "            \n",
    "            #uptade conditions\n",
    "            pairwise_matrix[class_i, class_j]=1\n",
    "            pairwise_matrix[class_j, class_i]=1\n",
    "\n",
    "            #calculate for each dataset and each k, training and test accuracy\n",
    "            print('class i: {a}, class j: {b}'.format(a=class_i, b=class_j))\n",
    "            \n",
    "            k=10\n",
    "            layers=[784, 100, 100, 100, 100, 100, 1] #should be 1024\n",
    "            model = Memorization(layers, k)\n",
    "            model.fit(X_train, y_train)\n",
    "                \n",
    "            train_acc = model.accuracy(X_train, y_train)\n",
    "            test_acc = model.accuracy(X_test, y_test)\n",
    "                \n",
    "            k_list.append(k)\n",
    "            train_acc_list.append(train_acc)\n",
    "            test_acc_list.append(test_acc)\n",
    "                \n",
    "            print(\"k = \" + (str(k) + \"  \")[:3]\n",
    "          + \" | Training Accuracy = \" + (str(train_acc) + \"   \")[:5] \n",
    "          + \" | Test Accuracy = \" + str(test_acc)[:5])"
   ]
  },
  {
   "cell_type": "markdown",
   "metadata": {},
   "source": [
    "### Expérimentation n°9\n",
    "\n",
    "L'objectif de trier les points"
   ]
  },
  {
   "cell_type": "markdown",
   "metadata": {},
   "source": [
    "**DATA**"
   ]
  },
  {
   "cell_type": "code",
   "execution_count": 67,
   "metadata": {
    "collapsed": true
   },
   "outputs": [],
   "source": [
    "#pair of points\n",
    "#encode each point in a 10-bit number\n",
    "# example point A = (0010111111, 0001010101)"
   ]
  },
  {
   "cell_type": "code",
   "execution_count": 85,
   "metadata": {
    "collapsed": true
   },
   "outputs": [],
   "source": [
    "def circle_cond(x, y):\n",
    "    if x**2 + y**2 <= (1.6**2):\n",
    "        return 1\n",
    "    else:\n",
    "        return 0"
   ]
  },
  {
   "cell_type": "code",
   "execution_count": null,
   "metadata": {
    "collapsed": true
   },
   "outputs": [],
   "source": [
    "def transform_X_to_coord(X, dict_loc):\n",
    "    x=[]\n",
    "    y=[]\n",
    "    for i in range(X.shape[0]):\n",
    "        s=\"\"\n",
    "        for j in range(X.shape[1]):\n",
    "            s+=str(X[i][j])\n",
    "        coord = dict_loc[s]\n",
    "        x.append(coord[0])\n",
    "        y.append(coord[1])\n",
    "    return x, y\n",
    "        "
   ]
  },
  {
   "cell_type": "code",
   "execution_count": null,
   "metadata": {
    "collapsed": true
   },
   "outputs": [],
   "source": [
    "def plot_circle(X, y, ax, title='title'):\n",
    "    \n",
    "    x_g, y_g = transform_X_to_coord(X[tuple(np.where(y==0))], dict_loc)\n",
    "    x_b, y_b = transform_X_to_coord(X[tuple(np.where(y==1))], dict_loc)\n",
    "\n",
    "    ax.plot(x_b, y_b, 'b+')\n",
    "    ax.plot(x_g, y_g, 'g+')\n",
    "    ax.set_xlim([-2.0,2.0])\n",
    "    ax.set_ylim([-2.0,2.0])\n",
    "    ax.set_title(title);"
   ]
  },
  {
   "cell_type": "code",
   "execution_count": null,
   "metadata": {
    "collapsed": true
   },
   "outputs": [],
   "source": []
  },
  {
   "cell_type": "code",
   "execution_count": null,
   "metadata": {
    "collapsed": true
   },
   "outputs": [],
   "source": [
    "import random\n",
    "random.seed(42)\n",
    "\n",
    "x_set = []\n",
    "y_set = []\n",
    "#Create a 100x100 grid\n",
    "grid_space = np.linspace(-2.0, 2.0, 100)\n",
    "\n",
    "grid=np.zeros((100,100))\n",
    "dict_loc = {}\n",
    "\n",
    "list_bin=[]\n",
    "for i in range(100):\n",
    "    list_bin.append((\"0\"*10 + str(bin(i))[2:])[-10:])\n",
    "\n",
    "nb_exemples = 10000 #must be <10000 (100*100 points)\n",
    "#generate 100*100 points\n",
    "for ex in range(nb_exemples):\n",
    "    x_idx = random.randint(0,99)\n",
    "    y_idx = random.randint(0,99)\n",
    "    if grid[x_idx][y_idx]==0:\n",
    "        p_x = np.array([int(list_bin[x_idx][e]) for e in range(10)])\n",
    "        p_y = np.array([int(list_bin[y_idx][e]) for e in range(10)])\n",
    "        encoded_point = np.concatenate((p_x, p_y), axis=0)\n",
    "        x_set.append(encoded_point)\n",
    "        x = grid_space[x_idx]\n",
    "        y = grid_space[y_idx]\n",
    "        str_encoded_point=\"\"\n",
    "        for k in range(20):\n",
    "            str_encoded_point+=str(encoded_point[k])\n",
    "        dict_loc[str_encoded_point]=[x, y]\n",
    "        true_y = circle_cond(x, y)\n",
    "    \n",
    "        y_set.append(true_y)\n",
    "        \n",
    "        #update\n",
    "        grid[x_idx][y_idx]==1\n",
    "    \n",
    "x_set = np.array(x_set, dtype=int)\n",
    "y_set =np.array(y_set, dtype=int)"
   ]
  },
  {
   "cell_type": "code",
   "execution_count": null,
   "metadata": {
    "collapsed": true
   },
   "outputs": [],
   "source": [
    "from sklearn.model_selection import train_test_split\n",
    "\n",
    "X_train, X_test, y_train, y_test = train_test_split(x_set, y_set, test_size=0.5, random_state=42)"
   ]
  },
  {
   "cell_type": "code",
   "execution_count": null,
   "metadata": {
    "collapsed": true
   },
   "outputs": [],
   "source": [
    "layers = [20]\n",
    "layers += (32*[2048])\n",
    "layers.append(1)\n",
    "\n",
    "train_preds = {}\n",
    "test_preds = {}\n",
    "\n",
    "k_list = [2, 6, 10]\n",
    "\n",
    "for k in k_list:\n",
    "    #train model\n",
    "    model = Memorization(layers, k)\n",
    "    model.fit(X_train, y_train)\n",
    "    \n",
    "    #predict and calculate accuracy\n",
    "    train_acc = model.accuracy(X_train, y_train)\n",
    "    test_acc = model.accuracy(X_test, y_test)\n",
    "\n",
    "    #store data\n",
    "    train_y_pred = model.predict(X_train)\n",
    "    test_y_pred = model.predict(X_test)\n",
    "    train_preds[k] = train_y_pred\n",
    "    test_preds[k] = test_y_pred\n",
    "\n",
    "    print(\"k = \" + (str(k) + \"  \")[:3]\n",
    "        + \" | Training Accuracy = \" + (str(train_acc) + \"   \")[:5] \n",
    "        + \" | Test Accuracy = \" + str(test_acc)[:5])"
   ]
  },
  {
   "cell_type": "code",
   "execution_count": null,
   "metadata": {
    "collapsed": true
   },
   "outputs": [],
   "source": [
    "fig, axs = plt.subplots(1, 2, figsize=(12, 6))\n",
    "fig.subplots_adjust(wspace=0.1)\n",
    "fig.suptitle('ground truth', fontsize=20)\n",
    "\n",
    "plot_circle(X_train, y_train, axs[0], title='training')\n",
    "plot_circle(X_test, y_test, axs[1], title='test')\n",
    "\n",
    "for k in k_list:\n",
    "    fig, axs = plt.subplots(1, 2, figsize=(12, 6))\n",
    "    fig.subplots_adjust(wspace=0.1)\n",
    "    fig.suptitle('k={}'.format(k), fontsize=20)\n",
    "\n",
    "    plot_circle(X_train, train_preds[k], axs[0], title='training')\n",
    "    plot_circle(X_test, test_preds[k], axs[1], title='test')"
   ]
  },
  {
   "cell_type": "markdown",
   "metadata": {},
   "source": [
    "# Améliorations\n",
    "\n",
    "L'objectif de cette amélioration est de ne calculer que les luts utiles pour l'entraînement et la prédictions. Le modèle reste donc inchangé, seul le temps de calcul se trouve amélioré."
   ]
  },
  {
   "cell_type": "code",
   "execution_count": 259,
   "metadata": {},
   "outputs": [],
   "source": [
    "class Improved_Memorization(Memorization):\n",
    "    def __init__(self, layers, k):\n",
    "        super().__init__(layers, k)\n",
    "        \n",
    "        useful = [list(range(layers[-1]))]\n",
    "        for i in range(len(self.list_luts) - 1, -1, -1):\n",
    "            x = []\n",
    "            for j in useful[-1]:\n",
    "                x += list(self.list_luts[i][j])\n",
    "            useful.append(sorted(list(set(x))))\n",
    "        \n",
    "        self.useful = list(reversed(useful)) # Ensemble des luts dont le calcul est utile, par couche\n",
    "        \n",
    "    \n",
    "    def fit(self, X_train, y_train, print_training_accuracy = False):\n",
    "        #Display training accuracy for the first layer (layer 0)\n",
    "        if print_training_accuracy:\n",
    "                print(\"Layer = \" + str(0) \n",
    "                      + \" | Lut count = \" + (str(self.layers[0]) + \"    \")[:5]\n",
    "                      + \" | Useful luts = \" + (str(len(self.useful[0])) + \"    \")[:5]\n",
    "                      + \" | Training Accuracy = \" + str(self.accuracy(X_train, y_train)))\n",
    "                \n",
    "        n = len(X_train)\n",
    "        \n",
    "        list_computed = [X_train] #initialise la liste des couches qui vont être calculées\n",
    "        self.list_link = [] # liste des liaisons entre luts\n",
    "\n",
    "        # Entraînement couche par couche\n",
    "        for layer in range(1, len(self.layers)): #numero de la couche\n",
    "            layer_luts = self.list_luts[layer - 1] #liste des luts de la couche précédente et de taille k (combinaison aléatoire)\n",
    "\n",
    "            last_computed_layer = list_computed[-1] #récupère la dernière couche\n",
    "\n",
    "            link = []\n",
    "            next_computed_layer = [[0 for x in range(self.layers[layer])] for y in range(n)] #initialiste la couche suivante \n",
    "                                                                                             #(taille de la couche suivant * nombre d'exemples dans le dataset)\n",
    "            \n",
    "            for i in range(self.layers[layer]): #parcourt la taille de la couche pour chaque couche\n",
    "                if i in self.useful[layer]:\n",
    "                    dict_positif = self.dict.copy() #init du dictionnaire stockant le nombre de valeurs positives\n",
    "                    dict_negatif = self.dict.copy() #init du dictionnaire stockant le nombre de valeurs négatives\n",
    "\n",
    "                    for j in range(n): #parcourt le nombre d'exemples dans le dataset\n",
    "                        s = \"\"\n",
    "                        for z in range(self.k): #parcourt la taille k pour chaque exemple\n",
    "                            try :\n",
    "                                s += str(last_computed_layer[j][layer_luts[i][z]]) #donne la valeur binaire pour chaque exemple (j) grâce à la combinaison aléatoire des luts de la couche précédente\n",
    "                            except :\n",
    "                                print(layer_luts[i][z])\n",
    "                        next_computed_layer[j][i] = s #stocke la valeur binaire dans la nouvelle couche à la position (j=numero d'exemples, i=numero dans la taille de la couche)\n",
    "                        dict_negatif[s] += (y_train[j] == 0).astype(int) #stocke dans le dict neg pour la clé binaire, le nombre de valeurs negatives dans le dataset\n",
    "                        dict_positif[s] += (y_train[j] == 1).astype(int) #stocke dans le dict pos pour la clé binaire, le nombre de valeurs positive dans le dataset\n",
    "\n",
    "                    dict_ = self.dict.copy()\n",
    "\n",
    "                    #prédiction finale obtenu par la comparaison du nombre de valeurs positives par rapport aux nombres de valeurs négatives\n",
    "                    for l in dict_.keys():\n",
    "                        if dict_positif[l] > dict_negatif[l]:\n",
    "                            dict_[l] = 1\n",
    "                        elif dict_positif[l] < dict_negatif[l]:\n",
    "                            dict_[l] = 0\n",
    "                        else :\n",
    "                            dict_[l] = np.random.randint(2)\n",
    "\n",
    "                    #attribut la valeur finale pour la nouvelle couche à la position j(num exemple pour chaque exemple), i(num taille de la couche)\n",
    "                    for j in range(n): #reparcourt le nombre d'exemples dans le dataset\n",
    "                        next_computed_layer[j][i] = dict_[next_computed_layer[j][i]]\n",
    "\n",
    "                    link.append(dict_) #rajoute le dict des valeurs prédites 'dict_' dans une liste 'link'\n",
    "                else :\n",
    "                    link.append(0)\n",
    "\n",
    "            list_computed.append(next_computed_layer) #rajoute la nouvelle couche dans la liste 'list_computed'\n",
    "            self.list_link.append(link) #rajoute la liste 'link' dans la liste générale 'list_link'\n",
    "            \n",
    "            if print_training_accuracy:\n",
    "                print(\"Layer = \" + str(layer) \n",
    "                      + \" | Lut count = \" + (str(self.layers[layer]) + \"    \")[:5] \n",
    "                      + \" | Useful luts = \" + (str(len(self.useful[layer])) + \"    \")[:5]\n",
    "                      + \" | Training Accuracy = \" + str(self.accuracy(X_train, y_train)))\n",
    "                \n",
    "    \"\"\"\n",
    "    Prediction de la classe pour une entrée x.\n",
    "    \"\"\"\n",
    "    def one_prediction(self, x):   \n",
    "        list_computed = [x]\n",
    "\n",
    "        # Calcul couche par couche\n",
    "        for layer in range(len(self.list_link)):\n",
    "            layer_luts = self.list_luts[layer]\n",
    "            link = self.list_link[layer]\n",
    "            last_computed_layer = list_computed[-1]\n",
    "\n",
    "            next_computed_layer = []\n",
    "            for i in range(len(layer_luts)):\n",
    "                \n",
    "                if i in self.useful[layer +1]:\n",
    "                    s = \"\"\n",
    "                    for z in range(self.k):\n",
    "                        s += str(last_computed_layer[layer_luts[i][z]])\n",
    "                    next_computed_layer.append(link[i][s])\n",
    "                    \n",
    "                else:\n",
    "                    next_computed_layer.append(0)\n",
    "            list_computed.append(next_computed_layer)\n",
    "        \n",
    "        # Somme du nombre de 1 sur l'ensemble des luts de la dernière couche\n",
    "        resu = 0\n",
    "        for i in range(len(self.list_luts[len(self.list_link) - 1])):\n",
    "            resu += list_computed[-1][i]\n",
    "        \n",
    "        # Retourne 1 si il y a plus de 1 que de 0 sur l'ensemble des luts de la dernière couche (0 sinon)\n",
    "        return int(resu > len(self.useful[len(self.list_link)]) / 2)"
   ]
  },
  {
   "cell_type": "code",
   "execution_count": 260,
   "metadata": {
    "collapsed": true
   },
   "outputs": [],
   "source": [
    "layers = [784, 1024, 1024, 1024, 1024, 1024, 1] \n",
    "k = 8"
   ]
  },
  {
   "cell_type": "code",
   "execution_count": 261,
   "metadata": {},
   "outputs": [],
   "source": [
    "model = Improved_Memorization(layers, k)"
   ]
  },
  {
   "cell_type": "code",
   "execution_count": 262,
   "metadata": {},
   "outputs": [
    {
     "name": "stdout",
     "output_type": "stream",
     "text": [
      "Layer = 0 | Lut count = 784   | Useful luts = 784   | Training Accuracy = 0.486\n",
      "Layer = 1 | Lut count = 1024  | Useful luts = 1024  | Training Accuracy = 0.825\n",
      "Layer = 2 | Lut count = 1024  | Useful luts = 985   | Training Accuracy = 0.948\n",
      "Layer = 3 | Lut count = 1024  | Useful luts = 418   | Training Accuracy = 0.985\n",
      "Layer = 4 | Lut count = 1024  | Useful luts = 64    | Training Accuracy = 0.998\n",
      "Layer = 5 | Lut count = 1024  | Useful luts = 8     | Training Accuracy = 0.999\n",
      "Layer = 6 | Lut count = 1     | Useful luts = 1     | Training Accuracy = 1.0\n"
     ]
    }
   ],
   "source": [
    "model.fit(X_train, y_train, print_training_accuracy = True)"
   ]
  }
 ],
 "metadata": {
  "kernelspec": {
   "display_name": "Python 3",
   "language": "python",
   "name": "python3"
  },
  "language_info": {
   "codemirror_mode": {
    "name": "ipython",
    "version": 3
   },
   "file_extension": ".py",
   "mimetype": "text/x-python",
   "name": "python",
   "nbconvert_exporter": "python",
   "pygments_lexer": "ipython3",
   "version": "3.6.3"
  }
 },
 "nbformat": 4,
 "nbformat_minor": 2
}
